{
 "cells": [
  {
   "cell_type": "markdown",
   "id": "b63f2310",
   "metadata": {},
   "source": [
    "# Problem Set 2.9: Pivot Tables and Groupby\n",
    "\n",
    "[Click here to open this notebook in your browser](https://leifwalsh.github.io/data-analysis-problem-sets/lab/index.html?path=2-pandas-basics/2.9-pivot-tables-and-groupby/2.9-pivot-tables-and-groupby.ipynb)\n",
    "\n",
    "Learn to do grouped aggregations to study cohort behavior or summarize a dataset."
   ]
  },
  {
   "cell_type": "markdown",
   "id": "6bb87788",
   "metadata": {},
   "source": [
    "At the end of the [last notebook](../2.8-aggregations/2.8-aggregations.ipynb), we wanted to compute some aggregations (sums, averages, and counts) across different groups. Today, we'll explore the APIs that `pandas` provides for us to do that, since it's so common."
   ]
  },
  {
   "cell_type": "code",
   "execution_count": null,
   "id": "926d6a00",
   "metadata": {},
   "outputs": [],
   "source": [
    "import pandas as pd"
   ]
  },
  {
   "cell_type": "code",
   "execution_count": null,
   "id": "0213fa51-4566-4e1c-b0a3-e4323690a572",
   "metadata": {},
   "outputs": [],
   "source": [
    "df = pd.read_csv(\"standings.csv\")\n",
    "df.head(5)"
   ]
  },
  {
   "cell_type": "markdown",
   "id": "70c445f2",
   "metadata": {},
   "source": [
    "## Exploring groupby()\n",
    "\n",
    "First, let's try to sum the wins, losses, and ties separately for each team. We'll build up slowly and inspect the objects we're working with.\n",
    "\n",
    "First, let's just see what `groupby()` does by itself. We'll ask `pandas` to form groups based on the `team` column:"
   ]
  },
  {
   "cell_type": "code",
   "execution_count": null,
   "id": "0e0d3557",
   "metadata": {},
   "outputs": [],
   "source": [
    "df.groupby(\"team\")"
   ]
  },
  {
   "cell_type": "markdown",
   "id": "32eadc2a",
   "metadata": {},
   "source": [
    "....... okay. What is that?\n",
    "\n",
    "This is something that's hard to figure out by interrogating, so let's just explain it. The [user guide for groupby](https://pandas.pydata.org/pandas-docs/stable/user_guide/groupby.html) says a lot, but let's build up to it.\n",
    "\n",
    "This `DataFrameGroupBy` object is sort of a proxy or view on the original DataFrame, that knows you want to form groups according to the unique values in the `team` column. It has a lot of methods on it that we'll get to, but for one thing, you can iterate over it.\n",
    "\n",
    "When you do, you get pairs of values, the first is one of the values from the `team` column, and the second is a DataFrame of all the rows that have that value in their `team` column:"
   ]
  },
  {
   "cell_type": "code",
   "execution_count": null,
   "id": "0b6c110d",
   "metadata": {},
   "outputs": [],
   "source": [
    "for key, group in df.groupby(\"team\"):\n",
    "    print(key)"
   ]
  },
  {
   "cell_type": "markdown",
   "id": "1577d196",
   "metadata": {},
   "source": [
    "So, if you want to sum up wins per team, you can do this:"
   ]
  },
  {
   "cell_type": "code",
   "execution_count": null,
   "id": "2ef3970d",
   "metadata": {},
   "outputs": [],
   "source": [
    "for team, group in df.groupby(\"team\"):\n",
    "    print(team, group[\"wins\"].sum())"
   ]
  },
  {
   "cell_type": "markdown",
   "id": "b65e00bf",
   "metadata": {},
   "source": [
    "Or you could build your own DataFrame, with `pd.concat()`:"
   ]
  },
  {
   "cell_type": "code",
   "execution_count": null,
   "id": "c39ec99d",
   "metadata": {},
   "outputs": [],
   "source": [
    "rows = {}\n",
    "for team, group in df.groupby(\"team\"):\n",
    "    rows[team] = group[[\"wins\", \"losses\", \"ties\"]].sum()\n",
    "pd.concat(rows, axis=1)"
   ]
  },
  {
   "cell_type": "markdown",
   "id": "5ff89a23",
   "metadata": {},
   "source": [
    "## Methods on a `DataFrameGroupBy` object\n",
    "\n",
    "But that's not usually the way you interact with `groupby()`. The `DataFrameGroupBy` object actually behaves a lot like a DataFrame: in particular you can select a column or set of columns with the `[]` indexer:"
   ]
  },
  {
   "cell_type": "code",
   "execution_count": null,
   "id": "b0553ff2",
   "metadata": {},
   "outputs": [],
   "source": [
    "df.groupby(\"team\")[[\"wins\", \"losses\", \"ties\"]]"
   ]
  },
  {
   "cell_type": "markdown",
   "id": "c6f3ffad",
   "metadata": {},
   "source": [
    "It doesn't look like anything changed, but that's actually a new `DataFrameGroupBy` that just has those three columns, but also remembers that you're grouping by `team`.\n",
    "\n",
    "Now, we get to the fun part. Remember how a `DataFrame` has a `sum()` method (and a lot more aggregation methods)?"
   ]
  },
  {
   "cell_type": "code",
   "execution_count": null,
   "id": "c34d64a1",
   "metadata": {},
   "outputs": [],
   "source": [
    "df[[\"wins\", \"losses\", \"ties\"]].sum()"
   ]
  },
  {
   "cell_type": "markdown",
   "id": "4b126c82",
   "metadata": {},
   "source": [
    "A `DataFrameGroupBy` object also has those aggregation methods, but when you call them, it'll apply them separately for each group. This is pretty much the main point of doing `groupby`:"
   ]
  },
  {
   "cell_type": "code",
   "execution_count": null,
   "id": "1fddc331",
   "metadata": {},
   "outputs": [],
   "source": [
    "df.groupby(\"team\")[[\"wins\", \"losses\", \"ties\"]].sum()"
   ]
  },
  {
   "cell_type": "markdown",
   "id": "872a595b",
   "metadata": {},
   "source": [
    "You can also do this to a single column of a `groupby` result. First, let's see what that object looks like:"
   ]
  },
  {
   "cell_type": "code",
   "execution_count": null,
   "id": "4be50901",
   "metadata": {},
   "outputs": [],
   "source": [
    "df.groupby(\"team\")[\"wins\"]"
   ]
  },
  {
   "cell_type": "markdown",
   "id": "ff9f2c99",
   "metadata": {},
   "source": [
    "We're starting to see a pattern: 1-dimensional objects are some kind of Series, and 2-dimensional objects are some kind of DataFrame. Naturally, aggregating this `SeriesGroupBy` should produce a Series, where the index comes from the grouping column (`team`) and the values are the sums per team:"
   ]
  },
  {
   "cell_type": "code",
   "execution_count": null,
   "id": "94b5c910",
   "metadata": {},
   "outputs": [],
   "source": [
    "df.groupby(\"team\")[\"wins\"].sum()"
   ]
  },
  {
   "cell_type": "markdown",
   "id": "e67abe68",
   "metadata": {},
   "source": [
    "### Multi-dimensional `groupby()`\n",
    "\n",
    "Sometimes your categories are identified by more than one dimension (or column).\n",
    "\n",
    "Suppose that instead of wanting to aggregate things just by `team`, you instead wanted to define your groups by `season` and `division`: that is, for each year, you want to count the number of wins claimed by each division.\n",
    "\n",
    "Well, you can use `groupby()` with multiple columns too:"
   ]
  },
  {
   "cell_type": "code",
   "execution_count": null,
   "id": "40714f09",
   "metadata": {},
   "outputs": [],
   "source": [
    "df.groupby([\"season\", \"division\"])[\"wins\"].sum()"
   ]
  },
  {
   "cell_type": "markdown",
   "id": "243b3a0e",
   "metadata": {},
   "source": [
    "That's...funny looking. It renders a little better as a DataFrame:"
   ]
  },
  {
   "cell_type": "code",
   "execution_count": null,
   "id": "a342167f",
   "metadata": {},
   "outputs": [],
   "source": [
    "df.groupby([\"season\", \"division\"])[\"wins\"].sum().to_frame()"
   ]
  },
  {
   "cell_type": "markdown",
   "id": "b225cc44",
   "metadata": {},
   "source": [
    "What's going on here is that the data in this Series is still just the list of win counts. But the index is a new thing: a `MultiIndex` with two levels: `season` and `division`. This is representing a sort of hierarchy in how we would name the thing that identifies one of the values: we need to know both the season and division in order to look up which value we want.\n",
    "\n",
    "Let's get that Series again:"
   ]
  },
  {
   "cell_type": "code",
   "execution_count": null,
   "id": "32825c56",
   "metadata": {},
   "outputs": [],
   "source": [
    "yearly_division_wins = df.groupby([\"season\", \"division\"])[\"wins\"].sum()\n",
    "yearly_division_wins"
   ]
  },
  {
   "cell_type": "markdown",
   "id": "a5139482",
   "metadata": {},
   "source": [
    "Its values are just the numbers:"
   ]
  },
  {
   "cell_type": "code",
   "execution_count": null,
   "id": "5c61fbdd",
   "metadata": {},
   "outputs": [],
   "source": [
    "yearly_division_wins.values"
   ]
  },
  {
   "cell_type": "markdown",
   "id": "33574733",
   "metadata": {},
   "source": [
    "But the index is what's interesting:"
   ]
  },
  {
   "cell_type": "code",
   "execution_count": null,
   "id": "c4e060c8",
   "metadata": {},
   "outputs": [],
   "source": [
    "yearly_division_wins.index"
   ]
  },
  {
   "cell_type": "markdown",
   "id": "8fb1c921",
   "metadata": {},
   "source": [
    "Anyway, since we wanted to do our aggregation along these two dimensions (season and division), we probably want to look at it as a two-dimensional thing! We can get there with one of pandas's reshaping methods: [`unstack()`](https://pandas.pydata.org/pandas-docs/stable/user_guide/reshaping.html#stack-and-unstack). "
   ]
  },
  {
   "cell_type": "code",
   "execution_count": null,
   "id": "3cfc90f8",
   "metadata": {},
   "outputs": [],
   "source": [
    "yearly_division_wins.unstack()"
   ]
  },
  {
   "cell_type": "markdown",
   "id": "10da0be6",
   "metadata": {},
   "source": [
    "Great! Now we have a nice table to look at. Let's put it all together in one cell:"
   ]
  },
  {
   "cell_type": "code",
   "execution_count": null,
   "id": "53b54148",
   "metadata": {},
   "outputs": [],
   "source": [
    "df.groupby([\"season\", \"division\"])[\"wins\"].sum().unstack()"
   ]
  },
  {
   "cell_type": "markdown",
   "id": "1f75b7a8",
   "metadata": {},
   "source": [
    "Just for fun, let's style it a bit:"
   ]
  },
  {
   "cell_type": "code",
   "execution_count": null,
   "id": "5ed95ab5",
   "metadata": {},
   "outputs": [],
   "source": [
    "df.groupby([\"season\", \"division\"])[\"wins\"].sum().unstack().style.bar(cmap=\"cividis\")"
   ]
  },
  {
   "cell_type": "markdown",
   "id": "fe4784e0",
   "metadata": {},
   "source": [
    "## Pivot Tables\n",
    "\n",
    "A pivot table might be more familiar to Excel power users. We just saw how to aggregate along two dimensions with `groupby()`. Let's point out the things we needed to specify:"
   ]
  },
  {
   "cell_type": "code",
   "execution_count": null,
   "id": "31ace7af",
   "metadata": {},
   "outputs": [],
   "source": [
    "#           dimensions for aggregation\n",
    "#               |         |        values to aggregate\n",
    "#               |         |          |     aggregation to perform\n",
    "#               |         |          |      |\n",
    "#               v         v          v      v\n",
    "df.groupby([\"season\", \"division\"])[\"wins\"].sum().unstack()"
   ]
  },
  {
   "cell_type": "markdown",
   "id": "3fd4b6fa",
   "metadata": {},
   "source": [
    "`pandas` offers us a single function that does all of this in one step: `pivot_table()`:"
   ]
  },
  {
   "cell_type": "code",
   "execution_count": null,
   "id": "5db6d331",
   "metadata": {},
   "outputs": [],
   "source": [
    "#                      values                   dimensions                    aggregation\n",
    "#                         |                    /          \\                       |\n",
    "#                         |                   /            \\                      |\n",
    "#                         v                  v              v                     v\n",
    "df.pivot_table(values=[\"wins\"], index=[\"season\"], columns=[\"division\"], aggfunc=\"sum\")"
   ]
  },
  {
   "cell_type": "markdown",
   "id": "d9ad8203",
   "metadata": {},
   "source": [
    "You may have noticed some of those parameters are lists: you can aggregate multiple values per group, or have multiple columns identifying the rows (index) or columns that name each group.\n",
    "\n",
    "The output of such a thing is pretty complicated to work with, so we won't go further with it, but if you need something like that, you should know `pivot_table` can do it and read the [documentation](https://pandas.pydata.org/pandas-docs/stable/user_guide/groupby.html) to understand how to work with it:"
   ]
  },
  {
   "cell_type": "code",
   "execution_count": null,
   "id": "5b72fe88",
   "metadata": {},
   "outputs": [],
   "source": [
    "df.pivot_table(values=[\"wins\", \"losses\", \"ties\"], index=[\"season\"], columns=[\"conf\", \"division\"], aggfunc=\"sum\")"
   ]
  },
  {
   "cell_type": "markdown",
   "id": "a6bec450",
   "metadata": {},
   "source": [
    "## Joining after a `groupby`\n",
    "\n",
    "We should cover one more thing. Recall that when we talked about `pd.merge()` we also mentioned that there's a `DataFrame.join()` method that basically does the same thing, except it uses the index as the join key instead of a column name by default.\n",
    "\n",
    "`DataFrame.join()` works great with `groupby()`.\n",
    "\n",
    "Suppose you want to see each team's percentage contribution of wins per season to its conference. We need to compute the number of wins per season and conference, but then align those back to each row in the original DataFrame so we can compare each team's wins with the total wins in its conference. Let's start by doing that `groupby`:"
   ]
  },
  {
   "cell_type": "code",
   "execution_count": null,
   "id": "6b374e6b",
   "metadata": {},
   "outputs": [],
   "source": [
    "df.groupby([\"season\", \"conf\"])[\"wins\"].sum()"
   ]
  },
  {
   "cell_type": "markdown",
   "id": "588354a9",
   "metadata": {},
   "source": [
    "Now, we want to attach these values back to the original DataFrame. We can do that with `join`, we just need to tell it again which columns it should match to the index of this Series. Since there's already a `wins` column, we also tell `join` to add the column with a suffix on its name:"
   ]
  },
  {
   "cell_type": "code",
   "execution_count": null,
   "id": "e975eb5e",
   "metadata": {},
   "outputs": [],
   "source": [
    "df.join(df.groupby([\"season\", \"conf\"])[\"wins\"].sum(), on=[\"season\", \"conf\"], rsuffix=\"_conf\")"
   ]
  },
  {
   "cell_type": "markdown",
   "id": "b2fc4628",
   "metadata": {},
   "source": [
    "Note the new `wins_conf` column on the right.\n",
    "\n",
    "Finally, we can add the column we want to compute:"
   ]
  },
  {
   "cell_type": "code",
   "execution_count": null,
   "id": "baf504fa",
   "metadata": {},
   "outputs": [],
   "source": [
    "key = [\"season\", \"conf\"]\n",
    "joined = df.join(df.groupby(key)[\"wins\"].sum(), on=key, rsuffix=\"_conf\")\n",
    "joined[\"conf_pct_wins\"] = 100.0 * joined[\"wins\"] / joined[\"wins_conf\"]\n",
    "joined"
   ]
  },
  {
   "cell_type": "markdown",
   "id": "956a48d6-e2a7-4d43-a4ff-8e91c00b4069",
   "metadata": {},
   "source": [
    "### Groupby vs. Pivot Tables"
   ]
  },
  {
   "cell_type": "markdown",
   "id": "b31b83a9-df28-4fd4-9262-5e3ca21058a9",
   "metadata": {},
   "source": [
    "Okay, but which one should I use?  \n",
    "\n",
    "* If you're looking for something quick and efficient, `groupby()` is slightly faster for larger datasets\n",
    "\n",
    "* `groupby()` allows for custom aggregation functions, while `pivot_table()` only supports common aggregation functions\n",
    "\n",
    "* If you're looking to share your results with a larger group, `pivot_table()` has better formatting and a tabular output\n",
    "  \n",
    "* `pivot_table()` has built-in flexibility with parameters like `margins=True` and `fill_value=0`. If you were using groupby, you would need to manage those things yourself"
   ]
  },
  {
   "cell_type": "markdown",
   "id": "aade3307-4f83-49d1-8315-afe68cbab792",
   "metadata": {},
   "source": [
    "For most use cases, it doesn't matter which one you pick. If you don't use the `columns` parameter in `pivot_table()`, then `groupby()` and `pivot_table()` produce the same data. In fact, pivot tables are essentially defined using groupby!"
   ]
  },
  {
   "cell_type": "markdown",
   "id": "45e237db-0d4e-4d95-910f-56428a512c40",
   "metadata": {},
   "source": [
    "Remember, these methods are related:\n",
    "\n",
    "`pivot_table --> groupby + unstack`\n",
    "\n",
    "and \n",
    "\n",
    "`groupby --> pivot_table + stack`"
   ]
  },
  {
   "cell_type": "markdown",
   "id": "aac4015d",
   "metadata": {},
   "source": [
    "## Exercises \n"
   ]
  },
  {
   "cell_type": "markdown",
   "id": "4c9e7916",
   "metadata": {},
   "source": [
    "#### Use `groupby()` to calculate the max salary within each department.\n"
   ]
  },
  {
   "cell_type": "code",
   "execution_count": null,
   "id": "70c8cea8",
   "metadata": {},
   "outputs": [],
   "source": []
  },
  {
   "cell_type": "markdown",
   "id": "97fa34fb",
   "metadata": {
    "ExecuteTime": {
     "end_time": "2024-04-29T19:17:27.197949Z",
     "start_time": "2024-04-29T19:17:27.194067Z"
    }
   },
   "source": [
    "#### Use `pivot_table()` to calculate the max salary within each department.\n"
   ]
  },
  {
   "cell_type": "code",
   "execution_count": null,
   "id": "acc5d731",
   "metadata": {},
   "outputs": [],
   "source": []
  },
  {
   "cell_type": "markdown",
   "id": "e023eb87",
   "metadata": {},
   "source": [
    "#### Return the average age and years of experience for each department.\n",
    "\n"
   ]
  },
  {
   "cell_type": "code",
   "execution_count": null,
   "id": "763ea24a-c1da-4eed-8e44-c042eb19552a",
   "metadata": {},
   "outputs": [],
   "source": []
  },
  {
   "cell_type": "markdown",
   "id": "a590ff2e-ce7f-4c47-bc9e-633c46d4b261",
   "metadata": {},
   "source": [
    "#### What's the maximum and minimum salaries within each job title?\n",
    "Hint: You can specify two aggregation functions \n",
    "\n"
   ]
  },
  {
   "cell_type": "code",
   "execution_count": null,
   "id": "18bb1b74-99be-4a0c-8912-ee7b8b469665",
   "metadata": {},
   "outputs": [],
   "source": []
  },
  {
   "cell_type": "markdown",
   "id": "8cbaebed-69d3-4e58-9a5a-8178c0865e26",
   "metadata": {},
   "source": [
    "#### Count the number of employees in each job title, segmented by their performance rating. What was the total count of employees for each performance rating?"
   ]
  },
  {
   "cell_type": "code",
   "execution_count": null,
   "id": "8aa55de2-ab95-4e79-8a43-7bc4ac44e2c4",
   "metadata": {},
   "outputs": [],
   "source": []
  }
 ],
 "metadata": {
  "hide_input": false,
  "kernelspec": {
   "display_name": "Python 3 (ipykernel)",
   "language": "python",
   "name": "python3"
  },
  "language_info": {
   "codemirror_mode": {
    "name": "ipython",
    "version": 3
   },
   "file_extension": ".py",
   "mimetype": "text/x-python",
   "name": "python",
   "nbconvert_exporter": "python",
   "pygments_lexer": "ipython3",
   "version": "3.11.8"
  }
 },
 "nbformat": 4,
 "nbformat_minor": 5
}
