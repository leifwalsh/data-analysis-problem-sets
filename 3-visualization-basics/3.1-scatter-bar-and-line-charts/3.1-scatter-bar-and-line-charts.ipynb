{
 "cells": [
  {
   "cell_type": "markdown",
   "id": "73f520ce",
   "metadata": {},
   "source": [
    "\n",
    "# Section 3.1: Visualizing Data with Scatter, Bar, and Line Charts\n",
    "\n",
    "In this section, we will explore how to visualize data using different types of charts in Python with the help of pandas and matplotlib libraries. We will start with the basics and gradually move on to more complex examples.\n",
    "\n",
    "## Scatter Plots\n",
    "Scatter plots are used to observe relationships between variables. Here's how you can create a scatter plot using pandas.\n"
   ]
  },
  {
   "cell_type": "code",
   "execution_count": null,
   "id": "1ce179aa",
   "metadata": {},
   "outputs": [],
   "source": [
    "\n",
    "import pandas as pd\n",
    "import pandas as pd\n",
    "\n",
    "# Load the dataset\n",
    "iris_data_path = 'iris.data'\n",
    "column_names = ['sepal_length', 'sepal_width', 'petal_length', 'petal_width', 'species']\n",
    "iris_df = pd.read_csv(iris_data_path, header=None, names=column_names)\n",
    "\n",
    "# Create a scatter plot\n",
    "pd.figure(figsize=(8, 6))\n",
    "for species, group in iris_df.groupby('species'):\n",
    "    pd.scatter(group['sepal_length'], group['sepal_width'], label=species)\n",
    "pd.title('Sepal Length vs Sepal Width by Species')\n",
    "pd.xlabel('Sepal Length (cm)')\n",
    "pd.ylabel('Sepal Width (cm)')\n",
    "pd.legend()\n",
    "pd.show()\n",
    "    "
   ]
  },
  {
   "cell_type": "code",
   "execution_count": null,
   "id": "08b3c70d",
   "metadata": {},
   "outputs": [],
   "source": [
    "\n",
    "# Calculate the average sepal length for each species\n",
    "average_sepal_length = iris_df.groupby('species')['sepal_length'].mean()\n",
    "\n",
    "# Create a bar chart\n",
    "average_sepal_length.plot(kind='bar', figsize=(8, 6))\n",
    "pd.title('Average Sepal Length by Species')\n",
    "pd.xlabel('Species')\n",
    "pd.ylabel('Average Sepal Length (cm)')\n",
    "pd.show()\n",
    "    "
   ]
  },
  {
   "cell_type": "code",
   "execution_count": null,
   "id": "460b6937",
   "metadata": {},
   "outputs": [],
   "source": [
    "\n",
    "# Sort the dataframe by petal length\n",
    "sorted_iris_df = iris_df.sort_values('petal_length')\n",
    "\n",
    "# Create a line chart\n",
    "pd.figure(figsize=(10, 8))\n",
    "for species, group in sorted_iris_df.groupby('species'):\n",
    "    pd.plot(group['petal_length'], label=species)\n",
    "pd.title('Petal Length Variation by Species')\n",
    "pd.xlabel('Samples')\n",
    "pd.ylabel('Petal Length (cm)')\n",
    "pd.legend()\n",
    "pd.show()\n",
    "    "
   ]
  }
 ],
 "metadata": {},
 "nbformat": 4,
 "nbformat_minor": 5
}
