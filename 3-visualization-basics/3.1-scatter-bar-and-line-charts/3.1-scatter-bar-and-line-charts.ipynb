{
 "cells": [
  {
   "cell_type": "markdown",
   "id": "34809ba1",
   "metadata": {},
   "source": [
    "# Introduction\n",
    "Welcome to Section 3.1 of the Data Analysis Problem Sets. In this section, we will explore how to create scatter, bar, and line charts using the pandas plotting API along with matplotlib. These types of charts are fundamental for data analysis and can help us understand the relationships between different variables in a dataset.\n",
    "\n",
    "For this tutorial, we will be using the Iris dataset, which is a classic dataset in the field of machine learning and statistics. It contains measurements for 150 iris flowers from three different species.\n",
    "\n",
    "Let's start by loading the dataset into a pandas DataFrame and taking a quick look at its structure.\n"
   ]
  },
  {
   "cell_type": "markdown",
   "id": "efe4a5ac",
   "metadata": {},
   "source": [
    "## Scatter Plot Example\n",
    "Scatter plots are great for visualizing the relationship between two numerical variables. Let's create a scatter plot to compare the sepal length and width of the iris flowers.\n"
   ]
  },
  {
   "cell_type": "markdown",
   "id": "59602a42",
   "metadata": {},
   "source": [
    "## Bar Chart Example\n",
    "Bar charts are useful for comparing quantities across different categories. We will use a bar chart to compare the average sepal length of each iris species.\n"
   ]
  },
  {
   "cell_type": "markdown",
   "id": "b5557fc3",
   "metadata": {},
   "source": [
    "## Line Chart Example\n",
    "Line charts are ideal for showing trends over a sequence. Although the Iris dataset is not a time series, we can still use a line chart to show the variation of petal length across the dataset.\n"
   ]
  },
  {
   "cell_type": "markdown",
   "id": "4955c009",
   "metadata": {},
   "source": [
    "## Conclusion\n",
    "In this tutorial, we have seen how to create scatter, bar, and line charts using pandas and matplotlib. These visualizations can help us understand our data better and uncover insights that may not be immediately apparent from the raw numbers.\n",
    "\n",
    "We encourage you to experiment with different types of charts and datasets to continue honing your data analysis skills.\n"
   ]
  },
  {
   "cell_type": "code",
   "execution_count": null,
   "id": "7ae40aac",
   "metadata": {},
   "outputs": [],
   "source": [
    "\n",
    "import pandas as pd\n",
    "import matplotlib.pyplot as plt\n",
    "\n",
    "# Load the dataset\n",
    "iris_data_path = 'iris.data'\n",
    "column_names = ['sepal_length', 'sepal_width', 'petal_length', 'petal_width', 'species']\n",
    "iris_df = pd.read_csv(iris_data_path, header=None, names=column_names)\n",
    "\n",
    "# Display the first few rows of the dataframe\n",
    "iris_df.head()\n",
    "    "
   ]
  },
  {
   "cell_type": "code",
   "execution_count": null,
   "id": "2a160cd9",
   "metadata": {},
   "outputs": [],
   "source": [
    "\n",
    "# Create a scatter plot\n",
    "plt.figure(figsize=(8, 6))\n",
    "for species, group in iris_df.groupby('species'):\n",
    "    plt.scatter(group['sepal_length'], group['sepal_width'], label=species)\n",
    "plt.title('Sepal Length vs Sepal Width by Species')\n",
    "plt.xlabel('Sepal Length (cm)')\n",
    "plt.ylabel('Sepal Width (cm)')\n",
    "plt.legend()\n",
    "plt.show()\n",
    "    "
   ]
  },
  {
   "cell_type": "code",
   "execution_count": null,
   "id": "684e9f7e",
   "metadata": {},
   "outputs": [],
   "source": [
    "\n",
    "# Calculate the average sepal length for each species\n",
    "average_sepal_length = iris_df.groupby('species')['sepal_length'].mean()\n",
    "\n",
    "# Create a bar chart\n",
    "average_sepal_length.plot(kind='bar', figsize=(8, 6))\n",
    "plt.title('Average Sepal Length by Species')\n",
    "plt.xlabel('Species')\n",
    "plt.ylabel('Average Sepal Length (cm)')\n",
    "plt.show()\n",
    "    "
   ]
  },
  {
   "cell_type": "code",
   "execution_count": null,
   "id": "3e84c78d",
   "metadata": {},
   "outputs": [],
   "source": [
    "\n",
    "# Sort the dataframe by petal length\n",
    "sorted_iris_df = iris_df.sort_values('petal_length')\n",
    "\n",
    "# Create a line chart\n",
    "plt.figure(figsize=(10, 8))\n",
    "for species, group in sorted_iris_df.groupby('species'):\n",
    "    plt.plot(group['petal_length'], label=species)\n",
    "plt.title('Petal Length Variation by Species')\n",
    "plt.xlabel('Samples')\n",
    "plt.ylabel('Petal Length (cm)')\n",
    "plt.legend()\n",
    "plt.show()\n",
    "    "
   ]
  }
 ],
 "metadata": {},
 "nbformat": 4,
 "nbformat_minor": 5
}
