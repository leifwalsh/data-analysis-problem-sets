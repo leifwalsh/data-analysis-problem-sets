{
 "cells": [
  {
   "cell_type": "markdown",
   "id": "73f520ce",
   "metadata": {},
   "source": [
    "\n",
    "# Section 3.1: Visualizing Data with Scatter, Bar, and Line Charts\n",
    "\n",
    "In this section, we will explore how to visualize data using different types of charts in Python with the help of pandas and matplotlib libraries. We will start with the basics and gradually move on to more complex examples.\n",
    "\n",
    "## Scatter Plots\n",
    "Scatter plots are used to observe relationships between variables. Here's how you can create a scatter plot using pandas.\n"
   ]
  },
  {
   "cell_type": "code",
   "execution_count": null,
   "id": "1ce179aa",
   "metadata": {},
   "outputs": [],
   "source": [
    "\n",
    "import pandas as pd\n",
    "import matplotlib.pyplot as plt\n",
    "\n",
    "# Load the dataset\n",
    "iris_data_path = 'iris.data'\n",
    "column_names = ['sepal_length', 'sepal_width', 'petal_length', 'petal_width', 'species']\n",
    "iris_df = pd.read_csv(iris_data_path, header=None, names=column_names)\n",
    "\n",
    "# Create a scatter plot\n",
    "plt.figure(figsize=(8, 6))\n",
    "for species, group in iris_df.groupby('species'):\n",
    "    plt.scatter(group['sepal_length'], group['sepal_width'], label=species)\n",
    "plt.title('Sepal Length vs Sepal Width by Species')\n",
    "plt.xlabel('Sepal Length (cm)')\n",
    "plt.ylabel('Sepal Width (cm)')\n",
    "plt.legend()\n",
    "plt.show()\n"
   ]
  },
  {
   "cell_type": "markdown",
   "id": "4fcc1c6f",
   "metadata": {},
   "source": [
    "\n",
    "## Bar Charts\n",
    "Bar charts are useful for comparing quantities corresponding to different groups. Below is an example of creating a bar chart using pandas.\n"
   ]
  },
  {
   "cell_type": "code",
   "execution_count": null,
   "id": "08b3c70d",
   "metadata": {},
   "outputs": [],
   "source": [
    "\n",
    "# Calculate the average sepal length for each species\n",
    "average_sepal_length = iris_df.groupby('species')['sepal_length'].mean()\n",
    "\n",
    "# Create a bar chart\n",
    "average_sepal_length.plot(kind='bar', figsize=(8, 6))\n",
    "plt.title('Average Sepal Length by Species')\n",
    "plt.xlabel('Species')\n",
    "plt.ylabel('Average Sepal Length (cm)')\n",
    "plt.show()\n"
   ]
  },
  {
   "cell_type": "markdown",
   "id": "48bbd7b0",
   "metadata": {},
   "source": [
    "\n",
    "## Line Charts\n",
    "Line charts are ideal for showing trends over time. Here's how you can create a line chart using pandas.\n"
   ]
  },
  {
   "cell_type": "code",
   "execution_count": null,
   "id": "460b6937",
   "metadata": {},
   "outputs": [],
   "source": [
    "\n",
    "# Sort the dataframe by petal length\n",
    "sorted_iris_df = iris_df.sort_values('petal_length')\n",
    "\n",
    "# Create a line chart\n",
    "plt.figure(figsize=(10, 8))\n",
    "for species, group in sorted_iris_df.groupby('species'):\n",
    "    plt.plot(group['petal_length'], label=species)\n",
    "plt.title('Petal Length Variation by Species')\n",
    "plt.xlabel('Samples')\n",
    "plt.ylabel('Petal Length (cm)')\n",
    "plt.legend()\n",
    "plt.show()\n"
   ]
  },
  {
   "cell_type": "markdown",
   "id": "d967147c",
   "metadata": {},
   "source": [
    "\n",
    "## Example Problems\n",
    "\n",
    "Now that you have learned how to create scatter, bar, and line charts, try to solve the following problems using the Iris dataset:\n",
    "\n",
    "1. Create a scatter plot showing the relationship between petal length and petal width for each species.\n",
    "2. Generate a bar chart that shows the average petal width for each species.\n",
    "3. Create a line chart that displays the variation in sepal width for each species across the dataset.\n",
    "4. (Bonus) Combine a scatter and line chart in one figure to show the relationship between sepal length and sepal width, with a trend line for each species.\n",
    "\n",
    "Remember to label your axes and add a title to each chart for clarity.\n"
   ]
  }
 ],
 "metadata": {},
 "nbformat": 4,
 "nbformat_minor": 5
}
