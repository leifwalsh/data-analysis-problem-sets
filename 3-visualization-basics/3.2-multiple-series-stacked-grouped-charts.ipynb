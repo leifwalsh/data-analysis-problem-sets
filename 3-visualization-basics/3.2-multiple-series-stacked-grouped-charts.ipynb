{
 "cells": [
  {
   "cell_type": "markdown",
   "id": "8a8c5e47",
   "metadata": {},
   "source": [
    "\n",
    "# Problem Set 3.2: Multiple Series and Stacked Grouped Charts\n",
    "\n",
    "In this section, we will learn how to plot multiple series with line and scatter plots, as well as create stacked and grouped bar charts using NFL data.\n"
   ]
  },
  {
   "cell_type": "code",
   "execution_count": null,
   "id": "9b0d87ee",
   "metadata": {},
   "outputs": [],
   "source": [
    "\n",
    "import pandas as pd\n",
    "\n",
    "# Load the NFL data\n",
    "standings = pd.read_csv('standings.csv')\n",
    "standings.head()\n"
   ]
  },
  {
   "cell_type": "markdown",
   "id": "5255997b",
   "metadata": {},
   "source": [
    "\n",
    "## Plotting Multiple Series\n",
    "\n",
    "Here we will demonstrate how to plot multiple series with line and scatter plots.\n"
   ]
  },
  {
   "cell_type": "code",
   "execution_count": null,
   "id": "3a1c78e7",
   "metadata": {},
   "outputs": [],
   "source": [
    "\n",
    "import matplotlib.pyplot as plt\n",
    "\n",
    "# Assuming standings DataFrame is already loaded\n",
    "# Filter data for a few teams to simplify the example\n",
    "teams_to_plot = ['NE', 'NYJ', 'MIA', 'BUF']\n",
    "filtered_standings = standings[standings.team.isin(teams_to_plot)]\n",
    "\n",
    "# Pivot the data to have teams as columns and seasons as rows\n",
    "pivoted_standings = filtered_standings.pivot(index='season', columns='team', values='pct')\n",
    "\n",
    "# Plot the data\n",
    "plt.figure(figsize=(10, 6))\n",
    "for team in teams_to_plot:\n",
    "    plt.plot(pivoted_standings.index, pivoted_standings[team], marker='o', label=team)\n",
    "\n",
    "plt.title('NFL Team Win Percentages Over Time')\n",
    "plt.xlabel('Season')\n",
    "plt.ylabel('Win Percentage')\n",
    "plt.legend(title='Team')\n",
    "plt.grid(True)\n",
    "plt.show()\n"
   ]
  },
  {
   "cell_type": "markdown",
   "id": "7b0231f9",
   "metadata": {},
   "source": [
    "\n",
    "## Stacked Bar Charts\n",
    "\n",
    "This section will show how to create stacked bar charts.\n"
   ]
  },
  {
   "cell_type": "code",
   "execution_count": null,
   "id": "ceca6b07",
   "metadata": {},
   "outputs": [],
   "source": [
    "\n",
    "# Assuming standings DataFrame is already loaded\n",
    "# Pivot data to have teams as columns and seasons as rows for win percentages\n",
    "pivoted_standings = filtered_standings.pivot(index='season', columns='team', values='pct')\n",
    "\n",
    "# Plot stacked bar chart\n",
    "pivoted_standings.plot(kind='bar', stacked=True, figsize=(10, 6))\n",
    "plt.title('NFL Team Win Percentages by Season')\n",
    "plt.xlabel('Season')\n",
    "plt.ylabel('Win Percentage')\n",
    "plt.legend(title='Team')\n",
    "plt.show()\n"
   ]
  },
  {
   "cell_type": "markdown",
   "id": "eb17a7f7",
   "metadata": {},
   "source": [
    "\n",
    "## Grouped Bar Charts\n",
    "\n",
    "Finally, we will learn how to create grouped bar charts.\n"
   ]
  },
  {
   "cell_type": "code",
   "execution_count": null,
   "id": "91b5054b",
   "metadata": {},
   "outputs": [],
   "source": [
    "\n",
    "# Assuming standings DataFrame is already loaded\n",
    "# Pivot data to have teams as columns and seasons as rows for win percentages\n",
    "pivoted_standings = filtered_standings.pivot(index='season', columns='team', values='pct')\n",
    "\n",
    "# Plot grouped bar chart\n",
    "pivoted_standings.plot(kind='bar', figsize=(10, 6))\n",
    "plt.title('NFL Team Win Percentages by Season')\n",
    "plt.xlabel('Season')\n",
    "plt.ylabel('Win Percentage')\n",
    "plt.legend(title='Team')\n",
    "plt.show()\n"
   ]
  }
 ],
 "metadata": {},
 "nbformat": 4,
 "nbformat_minor": 5
}
