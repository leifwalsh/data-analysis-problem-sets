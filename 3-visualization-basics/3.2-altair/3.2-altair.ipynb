{
 "cells": [
  {
   "cell_type": "markdown",
   "metadata": {},
   "source": [
    "# Problem Set 3.2: Altair\n",
    "\n",
    "[Click here to open this notebook in your browser](https://leifwalsh.github.io/data-analysis-problem-sets/lab/index.html?path=3-visualization-basics/3.2-altair/3.2-altair.ipynb)\n",
    "\n",
    "Learn my favorite visualization library, [Altair](https://altair-viz.github.io/)."
   ]
  },
  {
   "cell_type": "markdown",
   "metadata": {},
   "source": [
    "We'll use the same `mpg` dataset from the [last problem set](../3.1-basic-plotting/3.1-basic-plotting.ipynb) and make roughly the same charts, but this time we'll do it with an API that makes more sense. We'll be able to do some more sophisticated things easily."
   ]
  },
  {
   "cell_type": "code",
   "execution_count": null,
   "metadata": {},
   "outputs": [],
   "source": [
    "import pandas as pd\n",
    "import altair as alt\n",
    "mpg = pd.read_csv(\"mpg.csv\")"
   ]
  },
  {
   "cell_type": "markdown",
   "metadata": {},
   "source": [
    "## The Grammar of Graphics"
   ]
  },
  {
   "cell_type": "markdown",
   "metadata": {},
   "source": [
    "As before, we start with a simple scatter plot:"
   ]
  },
  {
   "cell_type": "code",
   "execution_count": null,
   "metadata": {},
   "outputs": [],
   "source": [
    "alt.Chart(mpg).encode(\n",
    "    x=\"weight\",\n",
    "    y=\"horsepower\"\n",
    ").mark_point()"
   ]
  },
  {
   "cell_type": "markdown",
   "metadata": {},
   "source": [
    "Recall how we did this with the pandas API:"
   ]
  },
  {
   "cell_type": "code",
   "execution_count": null,
   "metadata": {},
   "outputs": [],
   "source": [
    "mpg.plot.scatter(x=\"weight\", y=\"horsepower\")"
   ]
  },
  {
   "cell_type": "markdown",
   "metadata": {},
   "source": [
    "Again, we're specifying two main ideas here:\n",
    "\n",
    "1. How we want to _draw_ each observation (the \"geometry\")\n",
    "2. How we want to _encode_ each measurement of an observation (encoding `weight` as the x-coordinate and `horsepower` as the y-coordinate)\n",
    "\n",
    "I think the Altair library does a really good job of representing these concepts in a way that's cleanly separated, and this makes them more composable. I find it easier to tweak different pieces of the chart when they're clearly independently controllable.\n",
    "\n",
    "The API design theory behind this comes from [_The Grammar of Graphics_](https://www.cs.uic.edu/~wilkinson/TheGrammarOfGraphics/GOG.html) by Leland Wilkinson, popularized in the R package [`ggplot2`](https://ggplot2.tidyverse.org/) by Hadley Wickham (see also [the `ggplot2` book](https://ggplot2-book.org/mastery.html)).\n",
    "\n",
    "The two ideas above (drawing and encoding) are what the Grammar of Graphics calls \"layers\" or \"structures\" (there are seven, you don't often need all of them). What this theory does well is helps you think about them independently and combine them to get what you want.\n",
    "\n",
    "The Grammar of Graphics is widely regarded as a good idea and there are many Python libraries that implement something inspired by it. I like Altair best because it's the first one where the idea really clicked for me, but the others are good too.\n",
    "\n",
    "I also think that learning to think like the Grammar of Graphics wants you to also makes you better at using the other visualization libraries that aren't designed that way. It helps you (or at least it helps me) phrase the kind of thing I want to do so that I can go look for how to do it.\n",
    "\n",
    "**Caveat:** We're not building things up from first principles in this notebook. We're going to see a little bit of how things compose, and sample a few things you can do with Altair. The scope of what you can do is huge, way beyond what we can discuss in detail. The goal here is to give you some examples to play with to start to understand the feel of the API, and a couple of cool advanced things you can do to entice you to learn more. Beyond that, my best advice is to explore the gallery and Stack Overflow."
   ]
  },
  {
   "cell_type": "markdown",
   "metadata": {},
   "source": [
    "Let's look at that code again and point out the pieces:"
   ]
  },
  {
   "cell_type": "code",
   "execution_count": null,
   "metadata": {},
   "outputs": [],
   "source": [
    "alt.Chart(\n",
    "    # Here we provide the DataFrame we want to display. More on the format of this later.\n",
    "    mpg\n",
    ").encode(\n",
    "    # Here we're saying which columns should map to which visual features of what's to be drawn. There are many others.\n",
    "    x=\"weight\",\n",
    "    y=\"horsepower\",\n",
    ").mark_point()  # And here we're just saying \"the marks I want to draw are points\". That is, a scatter plot."
   ]
  },
  {
   "cell_type": "markdown",
   "metadata": {},
   "source": [
    "Since these objects follow something like the Builder pattern, you can save partially configured Chart objects and reuse them in different ways. We'll see how this makes this library very composable soon."
   ]
  },
  {
   "cell_type": "code",
   "execution_count": null,
   "metadata": {},
   "outputs": [],
   "source": [
    "chart = alt.Chart(mpg).encode(\n",
    "    x=\"weight\",\n",
    "    y=\"horsepower\",\n",
    ")"
   ]
  },
  {
   "cell_type": "markdown",
   "metadata": {},
   "source": [
    "You can take the same chart with some encodings and just draw it with different shapes:"
   ]
  },
  {
   "cell_type": "code",
   "execution_count": null,
   "metadata": {},
   "outputs": [],
   "source": [
    "scatter = chart.mark_point()\n",
    "scatter"
   ]
  },
  {
   "cell_type": "code",
   "execution_count": null,
   "metadata": {},
   "outputs": [],
   "source": [
    "line = chart.mark_line()\n",
    "line"
   ]
  },
  {
   "cell_type": "markdown",
   "metadata": {},
   "source": [
    "You can also add more encoding channels to one of your charts:"
   ]
  },
  {
   "cell_type": "code",
   "execution_count": null,
   "metadata": {},
   "outputs": [],
   "source": [
    "scatter.encode(color=\"origin\")"
   ]
  },
  {
   "cell_type": "markdown",
   "metadata": {},
   "source": [
    "You could back up to the `chart` object too and change things from there:"
   ]
  },
  {
   "cell_type": "code",
   "execution_count": null,
   "metadata": {},
   "outputs": [],
   "source": [
    "chart.mark_line().encode(color=\"origin\")"
   ]
  },
  {
   "cell_type": "markdown",
   "metadata": {},
   "source": [
    "Of course, you can make it bigger too:"
   ]
  },
  {
   "cell_type": "code",
   "execution_count": null,
   "metadata": {},
   "outputs": [],
   "source": [
    "scatter.encode(color=\"origin\").properties(width=800, height=600)"
   ]
  },
  {
   "cell_type": "markdown",
   "metadata": {},
   "source": [
    "### Multiple Charts\n",
    "\n",
    "Another thing you can do with reusing chart objects is to put them next to each other (like with `matplotlib`'s `plt.subplots()` we saw last time):"
   ]
  },
  {
   "cell_type": "code",
   "execution_count": null,
   "metadata": {},
   "outputs": [],
   "source": [
    "bars = alt.Chart(mpg).mark_bar().encode(x=\"model_year\")\n",
    "weight = bars.encode(y=\"mean(weight)\")\n",
    "acceleration = bars.encode(y=\"mean(acceleration)\")\n",
    "efficiency = bars.encode(y=\"mean(mpg)\")\n",
    "alt.hconcat(weight, acceleration, efficiency)"
   ]
  },
  {
   "cell_type": "code",
   "execution_count": null,
   "metadata": {},
   "outputs": [],
   "source": [
    "alt.vconcat(weight, acceleration, efficiency)"
   ]
  },
  {
   "cell_type": "markdown",
   "metadata": {},
   "source": [
    "There's a shorthand for these:\n",
    "- `vconcat` is `&`\n",
    "- `hconcat` is `|`"
   ]
  },
  {
   "cell_type": "code",
   "execution_count": null,
   "metadata": {},
   "outputs": [],
   "source": [
    "weight | acceleration | efficiency"
   ]
  },
  {
   "cell_type": "markdown",
   "metadata": {},
   "source": [
    "And you can mix them:"
   ]
  },
  {
   "cell_type": "code",
   "execution_count": null,
   "metadata": {},
   "outputs": [],
   "source": [
    "(weight | acceleration) & efficiency"
   ]
  },
  {
   "cell_type": "markdown",
   "metadata": {},
   "source": [
    "Last time, we made a box plot and remarked that it would be nice to be able to see the population sizes as well. We can do this easily by stacking our charts:"
   ]
  },
  {
   "cell_type": "code",
   "execution_count": null,
   "metadata": {},
   "outputs": [],
   "source": [
    "x_axis = alt.X(\"model_year\", scale=alt.Scale(domain=[69, 83]))\n",
    "boxes = alt.Chart(mpg).encode(x=x_axis, y=\"mpg\").mark_boxplot().properties(width=300, height=300)\n",
    "populations = alt.Chart(mpg).encode(x=x_axis, y=\"count()\").mark_bar().properties(width=300, height=100)\n",
    "boxes & populations"
   ]
  },
  {
   "cell_type": "markdown",
   "metadata": {},
   "source": [
    "We can also encode variables in our data as the chart columns or rows the data points will be separated into:"
   ]
  },
  {
   "cell_type": "code",
   "execution_count": null,
   "metadata": {},
   "outputs": [],
   "source": [
    "boxes.facet(column=\"origin\") & populations.facet(column=\"origin\")"
   ]
  },
  {
   "cell_type": "markdown",
   "metadata": {},
   "source": [
    "## Interactivity\n",
    "\n",
    "Altair is actually just a Python DSL (Domain Specific Language) for creating a [Vega-Lite](https://vega.github.io/vega-lite/) specification. Vega-Lite is a graphics library for browsers, which means it has facilities for all kinds of interactions with the user (typically with the mouse).\n",
    "\n",
    "One easy one is tooltips, which are another channel you can encode information into:"
   ]
  },
  {
   "cell_type": "code",
   "execution_count": null,
   "metadata": {},
   "outputs": [],
   "source": [
    "scatter.encode(\n",
    "    color=\"origin\",\n",
    "    tooltip=[\"origin\", \"model_year\", \"name\", \"weight\", \"horsepower\"]\n",
    ").properties(width=800, height=600)"
   ]
  },
  {
   "cell_type": "markdown",
   "metadata": {},
   "source": [
    "### Crossfilter\n",
    "\n",
    "One really cool interactivity example is called crossfiltering: you can select a portion of data in one chart in order to highlight that portion in another.\n",
    "\n",
    "First, let's make some charts that show the distribution of cars along a few different dimensions."
   ]
  },
  {
   "cell_type": "code",
   "execution_count": null,
   "metadata": {},
   "outputs": [],
   "source": [
    "chart = alt.Chart(mpg).mark_bar().properties(width=200, height=200).encode(y=\"count()\")\n",
    "base = chart.encode(x=alt.X(alt.repeat(\"column\")).bin(maxbins=20))\n",
    "base.repeat(column=[\"mpg\", \"weight\", \"acceleration\", \"displacement\"])"
   ]
  },
  {
   "cell_type": "markdown",
   "metadata": {},
   "source": [
    "Next, we can add in a selection and highlight what's selected.\n",
    "\n",
    "I should be honest here, I don't entirely understand how this works. I just looked at <https://altair-viz.github.io/gallery/interactive_layered_crossfilter.html> and copied as much of it as I needed to get things working."
   ]
  },
  {
   "cell_type": "code",
   "execution_count": null,
   "metadata": {},
   "outputs": [],
   "source": [
    "brush = alt.selection_interval(encodings=[\"x\"])\n",
    "background = base.encode(color=alt.value(\"#ddd\")).add_params(brush)\n",
    "highlight = base.transform_filter(brush)\n",
    "alt.layer(background, highlight).repeat(column=[\"mpg\", \"weight\", \"acceleration\", \"displacement\"])"
   ]
  },
  {
   "cell_type": "markdown",
   "metadata": {},
   "source": [
    "## Gallery\n",
    "\n",
    "As with pandas and seaborn, there is also an [Altair gallery](https://altair-viz.github.io/gallery/index.html#example-gallery)."
   ]
  },
  {
   "cell_type": "markdown",
   "metadata": {},
   "source": [
    "## Exercises\n",
    "\n",
    "We're just doing the same exercises from the previous notebook, but as an opportunity to explore Altair."
   ]
  },
  {
   "cell_type": "markdown",
   "metadata": {},
   "source": [
    "### Exercise 1\n",
    "\n",
    "Make a plot that shows the distribution of acceleration separately for each manufacturer."
   ]
  },
  {
   "cell_type": "code",
   "execution_count": null,
   "metadata": {},
   "outputs": [],
   "source": []
  },
  {
   "cell_type": "markdown",
   "metadata": {},
   "source": [
    "### Exercise 2\n",
    "\n",
    "Make a bar plot of something with error bars. Then make a box plot of the same thing."
   ]
  },
  {
   "cell_type": "code",
   "execution_count": null,
   "metadata": {},
   "outputs": [],
   "source": []
  },
  {
   "cell_type": "code",
   "execution_count": null,
   "metadata": {},
   "outputs": [],
   "source": []
  },
  {
   "cell_type": "markdown",
   "metadata": {},
   "source": [
    "### Exercise 3\n",
    "\n",
    "Use `altair` to show the joint distribution between `mpg` and `weight`. Use `hue` to show some interesting property."
   ]
  },
  {
   "cell_type": "code",
   "execution_count": null,
   "metadata": {},
   "outputs": [],
   "source": []
  },
  {
   "cell_type": "markdown",
   "metadata": {},
   "source": [
    "### Exercise 4\n",
    "\n",
    "Visit the [Altair Gallery](https://altair-viz.github.io/gallery/index.html) and make three plots of these data that interest you."
   ]
  },
  {
   "cell_type": "code",
   "execution_count": null,
   "metadata": {},
   "outputs": [],
   "source": []
  },
  {
   "cell_type": "code",
   "execution_count": null,
   "metadata": {},
   "outputs": [],
   "source": []
  },
  {
   "cell_type": "code",
   "execution_count": null,
   "metadata": {},
   "outputs": [],
   "source": []
  }
 ],
 "metadata": {
  "kernelspec": {
   "display_name": "Python 3",
   "language": "python",
   "name": "python3"
  },
  "language_info": {
   "codemirror_mode": {
    "name": "ipython",
    "version": 3
   },
   "file_extension": ".py",
   "mimetype": "text/x-python",
   "name": "python",
   "nbconvert_exporter": "python",
   "pygments_lexer": "ipython3",
   "version": "3.11.9"
  }
 },
 "nbformat": 4,
 "nbformat_minor": 2
}
