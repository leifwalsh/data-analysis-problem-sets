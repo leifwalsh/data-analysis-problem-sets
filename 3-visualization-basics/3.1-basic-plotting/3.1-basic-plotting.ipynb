{
 "cells": [
  {
   "cell_type": "markdown",
   "metadata": {},
   "source": [
    "# Problem Set 3.1: Basic Plotting\n",
    "\n",
    "[Click here to open this notebook in your browser](https://leifwalsh.github.io/data-analysis-problem-sets/lab/index.html?path=3-visualization-basics/3.1-basic-plotting/3.1-basic-plotting.ipynb)\n",
    "\n",
    "Let's start creating plots with the `pandas` APIs."
   ]
  },
  {
   "cell_type": "code",
   "execution_count": null,
   "metadata": {},
   "outputs": [],
   "source": [
    "import pandas as pd"
   ]
  },
  {
   "cell_type": "markdown",
   "metadata": {},
   "source": [
    "One famous dataset used in teaching data science is the \"mpg dataset\". It's ubiquitous, and you can get it out of the [`seaborn` package](https://seaborn.pydata.org/generated/seaborn.load_dataset.html)."
   ]
  },
  {
   "cell_type": "code",
   "execution_count": null,
   "metadata": {},
   "outputs": [],
   "source": [
    "import seaborn as sns\n",
    "# mpg = sns.load_dataset('mpg')\n",
    "mpg = pd.read_csv(\"mpg.csv\")\n",
    "mpg"
   ]
  },
  {
   "cell_type": "markdown",
   "metadata": {},
   "source": [
    "## The `pandas` plotting API\n",
    "\n",
    "The first API we'll explore is the one built right into `pandas`. There's another library we'll see shortly, called `matplotlib`, that handles the drawing, but `pandas` gives us an easy to use API to use `matplotlib` for simple plots that's discoverable by typing `.plot` after a DataFrame and tab completing.\n",
    "\n",
    "We'll only scratch the surface here, if you want to learn more, read the [documentation](https://pandas.pydata.org/pandas-docs/stable/user_guide/visualization.html)."
   ]
  },
  {
   "cell_type": "markdown",
   "metadata": {},
   "source": [
    "### Scatter Plots"
   ]
  },
  {
   "cell_type": "markdown",
   "metadata": {},
   "source": [
    "Let's dive right in with a simple scatter plot. With `pandas`, we can use the `DataFrame.plot` accessor to make all kinds of plots, and the arguments we provide describe how each row's columns will be visually encoded.\n",
    "\n",
    "Here, we're asking for a scatter plot, so each row will show up as a dot in the plot: its `weight` will determine the x-coordinate, and its `horsepower` will determine the y-coordinate."
   ]
  },
  {
   "cell_type": "code",
   "execution_count": null,
   "metadata": {},
   "outputs": [],
   "source": [
    "mpg.plot.scatter(x=\"weight\", y=\"horsepower\")"
   ]
  },
  {
   "cell_type": "markdown",
   "metadata": {},
   "source": [
    "We can set other properties of each point, like the color, by giving it another channel to encode. Let's show each country of origin as its own color.\n",
    "\n",
    "Here, we need to map each `origin` value to a different color, so we should prepare our dataframe first."
   ]
  },
  {
   "cell_type": "code",
   "execution_count": null,
   "metadata": {},
   "outputs": [],
   "source": [
    "mpg[\"origin\"].unique()"
   ]
  },
  {
   "cell_type": "code",
   "execution_count": null,
   "metadata": {},
   "outputs": [],
   "source": [
    "colors = {\n",
    "    \"usa\": \"lightblue\",\n",
    "    \"japan\": \"lime\",\n",
    "    \"europe\": \"violet\",\n",
    "}\n",
    "mpg[\"color\"] = mpg[\"origin\"].map(colors)\n",
    "mpg"
   ]
  },
  {
   "cell_type": "code",
   "execution_count": null,
   "metadata": {},
   "outputs": [],
   "source": [
    "mpg.plot.scatter(x=\"weight\", y=\"horsepower\", c=\"color\")"
   ]
  },
  {
   "cell_type": "markdown",
   "metadata": {},
   "source": [
    "We can also encode columns directly into the point colors, and they'll be mapped via a \"colormap\". And we can encode a fourth column, `acceleration`, to control the size."
   ]
  },
  {
   "cell_type": "code",
   "execution_count": null,
   "metadata": {},
   "outputs": [],
   "source": [
    "mpg.plot.scatter(x=\"weight\", y=\"horsepower\", c=\"displacement\", s=\"acceleration\")"
   ]
  },
  {
   "cell_type": "markdown",
   "metadata": {},
   "source": [
    "What do you notice about this plot? What do each of the encoded dimensions tell us about their relationships?"
   ]
  },
  {
   "cell_type": "markdown",
   "metadata": {},
   "source": [
    "#### Output Control\n",
    "\n",
    "A quick note: you can get rid of that `<Axes: ...>` text at the top with a semicolon at the end of the line.\n",
    "\n",
    "The reason is that calling the plotting function by itself makes the plot appear, but it still returns something (a `matplotlib` object). Jupyter wants to display the last thing in a cell that's returned, so it prints the representation of the plot as well.\n",
    "\n",
    "You can suppress this by \"returning\" `None` from the cell, like this:"
   ]
  },
  {
   "cell_type": "code",
   "execution_count": null,
   "metadata": {},
   "outputs": [],
   "source": [
    "mpg.plot.scatter(x=\"weight\", y=\"horsepower\", c=\"displacement\", s=\"acceleration\")\n",
    "None"
   ]
  },
  {
   "cell_type": "markdown",
   "metadata": {},
   "source": [
    "But a more concise way is to \"add another empty statement\" to the cell by adding a semicolon. I'll often do this when I'm preparing a notebook to be shared:"
   ]
  },
  {
   "cell_type": "code",
   "execution_count": null,
   "metadata": {},
   "outputs": [],
   "source": [
    "mpg.plot.scatter(x=\"weight\", y=\"horsepower\", c=\"displacement\", s=\"acceleration\");"
   ]
  },
  {
   "cell_type": "markdown",
   "metadata": {},
   "source": [
    "### Other familiar plots: lines, bars, box plots\n",
    "\n",
    "`pandas` has many other plots available in its simple API, you can see them all by tab-completing after `df.plot.`. Here is a sample:"
   ]
  },
  {
   "cell_type": "markdown",
   "metadata": {},
   "source": [
    "#### Line plots\n",
    "\n",
    "For this dataset, a line plot isn't great. Line plots are usually better for time series data, where the time points are clearly distinguished. In this case, the times are discrete, so you get lots of jaggedness and overlap in this plot."
   ]
  },
  {
   "cell_type": "code",
   "execution_count": null,
   "metadata": {},
   "outputs": [],
   "source": [
    "mpg.plot.line(x=\"model_year\", y=\"mpg\")"
   ]
  },
  {
   "cell_type": "markdown",
   "metadata": {},
   "source": [
    "We can do something useful with this dataset though, we can first aggregate by year and then plot the aggregates."
   ]
  },
  {
   "cell_type": "code",
   "execution_count": null,
   "metadata": {},
   "outputs": [],
   "source": [
    "mpg.groupby(\"model_year\")[\"mpg\"].mean().plot.line(x=\"model_year\", y=\"mpg\", title=\"Average MPG\")"
   ]
  },
  {
   "cell_type": "markdown",
   "metadata": {},
   "source": [
    "#### Bar plots\n",
    "\n",
    "Bar plots are good for big chunky groups of data. Here are a few examples:"
   ]
  },
  {
   "cell_type": "code",
   "execution_count": null,
   "metadata": {},
   "outputs": [],
   "source": [
    "mpg[\"origin\"].value_counts().plot.bar()"
   ]
  },
  {
   "cell_type": "code",
   "execution_count": null,
   "metadata": {},
   "outputs": [],
   "source": [
    "mpg.groupby(\"cylinders\")[\"mpg\"].mean().plot.bar()"
   ]
  },
  {
   "cell_type": "markdown",
   "metadata": {},
   "source": [
    "#### Distribution plots: box plots and histograms\n",
    "\n",
    "You can provide a sketch of a distribution with either a box plot or a histogram:"
   ]
  },
  {
   "cell_type": "code",
   "execution_count": null,
   "metadata": {},
   "outputs": [],
   "source": [
    "mpg.plot.box(by=\"origin\", column=\"mpg\")"
   ]
  },
  {
   "cell_type": "code",
   "execution_count": null,
   "metadata": {},
   "outputs": [],
   "source": [
    "mpg[\"acceleration\"].plot.hist()"
   ]
  },
  {
   "cell_type": "markdown",
   "metadata": {},
   "source": [
    "### Plotting multiple series\n",
    "\n",
    "Often you want to compare multiple things by drawing them as separate objects (separate lines or colors on the plot). You can do this with the `pandas` API by giving it multiple things to plot.\n",
    "\n",
    "Let's try this with a line plot, one line per country of origin. To start, we'll need a table where each country is in its own column, which we can get with `pivot_table`:"
   ]
  },
  {
   "cell_type": "code",
   "execution_count": null,
   "metadata": {},
   "outputs": [],
   "source": [
    "weights_by_country = mpg.pivot_table(index=\"model_year\", columns=\"origin\", values=\"weight\", aggfunc=\"mean\")\n",
    "weights_by_country"
   ]
  },
  {
   "cell_type": "code",
   "execution_count": null,
   "metadata": {},
   "outputs": [],
   "source": [
    "weights_by_country.plot.line()"
   ]
  },
  {
   "cell_type": "code",
   "execution_count": null,
   "metadata": {},
   "outputs": [],
   "source": [
    "weights_by_country.plot.bar()"
   ]
  },
  {
   "cell_type": "code",
   "execution_count": null,
   "metadata": {},
   "outputs": [],
   "source": [
    "weights_by_country.plot.box()"
   ]
  },
  {
   "cell_type": "markdown",
   "metadata": {},
   "source": [
    "#### **IMPORTANT QUESTION**\n",
    "\n",
    "Why should you never do the previous cell? What is actually being visualized here? Write your answer below:"
   ]
  },
  {
   "cell_type": "raw",
   "metadata": {},
   "source": []
  },
  {
   "cell_type": "markdown",
   "metadata": {},
   "source": [
    "## The `matplotlib` API\n",
    "\n",
    "So far we've used the `pandas` convenience methods for plotting data, but the underlying drawing library it uses, `matplotlib`, can do a lot more. When you really want to control your visualization, you may need to use the `matplotlib` APIs.\n",
    "\n",
    "**Disclaimer:** I am very much not a `matplotlib` expert, and the library is very old and very expansive. I can only show you a few things. If you want to have fine grained control, you're going to have to read its documentation closely, they have a great set of [Examples](https://matplotlib.org/stable/gallery/index.html).\n",
    "\n",
    "Personally, I much prefer the library `altair`, which we'll see in the next notebook, and that's what I use most of the time."
   ]
  },
  {
   "cell_type": "markdown",
   "metadata": {},
   "source": [
    "The `matplotlib` library has a couple of \"styles\" or \"entrypoints\" into its API - if you want to learn it, read some docs or watch some videos. The one I know best starts with this import statement:"
   ]
  },
  {
   "cell_type": "code",
   "execution_count": null,
   "metadata": {},
   "outputs": [],
   "source": [
    "# I'm told the lineage of this API traces back to trying to be like MATLAB\n",
    "from matplotlib import pyplot as plt"
   ]
  },
  {
   "cell_type": "markdown",
   "metadata": {},
   "source": [
    "Start by creating a `Figure` and an `Axes`:"
   ]
  },
  {
   "cell_type": "code",
   "execution_count": null,
   "metadata": {},
   "outputs": [],
   "source": [
    "fig, ax = plt.subplots()  # I don't know why it's called subplots. There's no \"plt.plots()\""
   ]
  },
  {
   "cell_type": "markdown",
   "metadata": {},
   "source": [
    "On this, we can draw things, by passing the `Axes` into `pandas` APIs:"
   ]
  },
  {
   "cell_type": "code",
   "execution_count": null,
   "metadata": {},
   "outputs": [],
   "source": [
    "fig, ax = plt.subplots()\n",
    "mpg.plot.scatter(x=\"weight\", y=\"horsepower\", ax=ax)"
   ]
  },
  {
   "cell_type": "markdown",
   "metadata": {},
   "source": [
    "One useful thing is, you can reuse the `Axes` object to draw multiple things on the plot:"
   ]
  },
  {
   "cell_type": "code",
   "execution_count": null,
   "metadata": {},
   "outputs": [],
   "source": [
    "fig, ax = plt.subplots()\n",
    "mpg.loc[mpg[\"origin\"] == \"usa\"].plot.scatter(x=\"weight\", y=\"horsepower\", c=\"lightblue\", ax=ax)\n",
    "mpg.loc[mpg[\"origin\"] == \"japan\"].plot.scatter(x=\"weight\", y=\"horsepower\", c=\"lime\", ax=ax)\n",
    "mpg.loc[mpg[\"origin\"] == \"europe\"].plot.scatter(x=\"weight\", y=\"horsepower\", c=\"violet\", ax=ax)"
   ]
  },
  {
   "cell_type": "markdown",
   "metadata": {},
   "source": [
    "You can also set other options:"
   ]
  },
  {
   "cell_type": "code",
   "execution_count": null,
   "metadata": {},
   "outputs": [],
   "source": [
    "fig, ax = plt.subplots(figsize=(16, 9))\n",
    "mpg.loc[mpg[\"origin\"] == \"usa\"].plot.scatter(x=\"weight\", y=\"horsepower\", c=\"lightblue\", ax=ax)\n",
    "mpg.loc[mpg[\"origin\"] == \"japan\"].plot.scatter(x=\"weight\", y=\"horsepower\", c=\"lime\", ax=ax)\n",
    "mpg.loc[mpg[\"origin\"] == \"europe\"].plot.scatter(x=\"weight\", y=\"horsepower\", c=\"violet\", ax=ax)"
   ]
  },
  {
   "cell_type": "markdown",
   "metadata": {},
   "source": [
    "Of course, the `pandas` API takes many `matplotlib` arguments already, so you could have just done this:"
   ]
  },
  {
   "cell_type": "code",
   "execution_count": null,
   "metadata": {},
   "outputs": [],
   "source": [
    "mpg.plot.scatter(x=\"weight\", y=\"horsepower\", c=\"color\", figsize=(16, 9))"
   ]
  },
  {
   "cell_type": "markdown",
   "metadata": {},
   "source": [
    "You can also call other methods on the `Axes` object to change properties of the plot after drawing it:"
   ]
  },
  {
   "cell_type": "code",
   "execution_count": null,
   "metadata": {},
   "outputs": [],
   "source": [
    "fig, ax = plt.subplots(figsize=(16, 9))\n",
    "mpg.plot.scatter(x=\"weight\", y=\"horsepower\", c=\"color\", ax=ax)\n",
    "ax.set_xlim(0, 6000)\n",
    "ax.tick_params(axis=\"x\", labelrotation=30)\n",
    "ax.set_title(\"Cool Plot\")"
   ]
  },
  {
   "cell_type": "markdown",
   "metadata": {},
   "source": [
    "I'm going to be completely honest here, I have no idea what the `Figure` is for."
   ]
  },
  {
   "cell_type": "markdown",
   "metadata": {},
   "source": [
    "## An even higher level API: `seaborn`\n",
    "\n",
    "There's a library called `seaborn` that has a lot of pre-canned kinds of statistical plots you can use. It also takes `pandas` data as inputs and draws using `matplotlib`. You should check the documentation's [Gallery](https://seaborn.pydata.org/examples/index.html) to see all the things it can do, we'll see a sample.\n",
    "\n",
    "We usually import it with the name `sns`:"
   ]
  },
  {
   "cell_type": "code",
   "execution_count": null,
   "metadata": {},
   "outputs": [],
   "source": [
    "import seaborn as sns"
   ]
  },
  {
   "cell_type": "code",
   "execution_count": null,
   "metadata": {},
   "outputs": [],
   "source": [
    "sns.displot(mpg, x=\"mpg\", y=\"displacement\")"
   ]
  },
  {
   "cell_type": "markdown",
   "metadata": {},
   "source": [
    "Like `pandas`, since `seaborn` uses `matplotlib` to draw, you can also control aspects of the plot with the `matplotlib` API, which is another good reason to familiarize yourself with it a bit."
   ]
  },
  {
   "cell_type": "code",
   "execution_count": null,
   "metadata": {},
   "outputs": [],
   "source": [
    "fig, ax = plt.subplots(figsize=(16, 9))\n",
    "sns.boxplot(x=\"model_year\", y=\"mpg\", hue=\"origin\", data=mpg, ax=ax)"
   ]
  },
  {
   "cell_type": "markdown",
   "metadata": {},
   "source": [
    "### Configuring `matplotlib`\n",
    "\n",
    "If you want all the plots in your notebook to have the same style, you can use `matplotlib`'s [`rcParams`](https://matplotlib.org/stable/users/explain/customizing.html) to customize things globally:"
   ]
  },
  {
   "cell_type": "code",
   "execution_count": null,
   "metadata": {},
   "outputs": [],
   "source": [
    "from matplotlib import rcParams"
   ]
  },
  {
   "cell_type": "code",
   "execution_count": null,
   "metadata": {},
   "outputs": [],
   "source": [
    "rcParams[\"figure.figsize\"] = (10, 3)\n",
    "rcParams[\"lines.linestyle\"] = \"--\""
   ]
  },
  {
   "cell_type": "code",
   "execution_count": null,
   "metadata": {},
   "outputs": [],
   "source": [
    "mpg.pivot_table(index=\"model_year\", columns=\"origin\", values=\"weight\", aggfunc=\"mean\").plot.line()"
   ]
  },
  {
   "cell_type": "markdown",
   "metadata": {},
   "source": [
    "## Exercises"
   ]
  },
  {
   "cell_type": "markdown",
   "metadata": {},
   "source": [
    "### Exercise 1\n",
    "\n",
    "Make a plot that shows the distribution of acceleration separately for each manufacturer."
   ]
  },
  {
   "cell_type": "code",
   "execution_count": null,
   "metadata": {},
   "outputs": [],
   "source": []
  },
  {
   "cell_type": "markdown",
   "metadata": {},
   "source": [
    "### Exercise 2\n",
    "\n",
    "Make a bar plot of something with error bars. Then make a box plot of the same thing."
   ]
  },
  {
   "cell_type": "code",
   "execution_count": null,
   "metadata": {},
   "outputs": [],
   "source": []
  },
  {
   "cell_type": "code",
   "execution_count": null,
   "metadata": {},
   "outputs": [],
   "source": []
  },
  {
   "cell_type": "markdown",
   "metadata": {},
   "source": [
    "### Exercise 3\n",
    "\n",
    "Use `seaborn` to show the joint distribution between `mpg` and `weight`. Use `hue` to show some interesting property."
   ]
  },
  {
   "cell_type": "code",
   "execution_count": null,
   "metadata": {},
   "outputs": [],
   "source": []
  },
  {
   "cell_type": "markdown",
   "metadata": {},
   "source": [
    "### Exercise 4\n",
    "\n",
    "Visit the [`pandas` Chart Visualization page](https://pandas.pydata.org/pandas-docs/stable/user_guide/visualization.html) and make three plots of these data that interest you."
   ]
  },
  {
   "cell_type": "code",
   "execution_count": null,
   "metadata": {},
   "outputs": [],
   "source": []
  },
  {
   "cell_type": "code",
   "execution_count": null,
   "metadata": {},
   "outputs": [],
   "source": []
  },
  {
   "cell_type": "code",
   "execution_count": null,
   "metadata": {},
   "outputs": [],
   "source": []
  },
  {
   "cell_type": "markdown",
   "metadata": {},
   "source": [
    "### Exercise 5\n",
    "\n",
    "Visit the [`seaborn` Gallery](https://seaborn.pydata.org/examples/index.html) and make three plots of these data that interest you."
   ]
  },
  {
   "cell_type": "code",
   "execution_count": null,
   "metadata": {},
   "outputs": [],
   "source": []
  },
  {
   "cell_type": "code",
   "execution_count": null,
   "metadata": {},
   "outputs": [],
   "source": []
  },
  {
   "cell_type": "code",
   "execution_count": null,
   "metadata": {},
   "outputs": [],
   "source": []
  }
 ],
 "metadata": {
  "kernelspec": {
   "display_name": "Python 3",
   "language": "python",
   "name": "python3"
  },
  "language_info": {
   "codemirror_mode": {
    "name": "ipython",
    "version": 3
   },
   "file_extension": ".py",
   "mimetype": "text/x-python",
   "name": "python",
   "nbconvert_exporter": "python",
   "pygments_lexer": "ipython3",
   "version": "3.11.9"
  }
 },
 "nbformat": 4,
 "nbformat_minor": 2
}
