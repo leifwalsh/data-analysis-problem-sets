{
 "cells": [
  {
   "cell_type": "markdown",
   "id": "206eb015",
   "metadata": {},
   "source": [
    "# Visualization with Altair"
   ]
  },
  {
   "cell_type": "markdown",
   "id": "78cc0a75",
   "metadata": {},
   "source": [
    "\n",
    "Altair is a declarative statistical visualization library for Python. It is built on top of Vega and Vega-Lite, which are powerful visualization grammars. With Altair, you can create a wide range of statistical visualizations with a simple and intuitive syntax.\n",
    "\n",
    "## Advantages of Altair\n",
    "\n",
    "- **Declarative syntax**: Altair allows you to think about the data rather than the code, making it easier to create complex visualizations.\n",
    "- **Integration with pandas**: Altair works well with the pandas library, allowing for seamless data manipulation and visualization.\n",
    "- **Interactive visualizations**: Altair supports interactive features like tooltips, zooming, and panning, which can be very useful for exploring datasets.\n"
   ]
  },
  {
   "cell_type": "code",
   "execution_count": null,
   "id": "6abd2962",
   "metadata": {},
   "outputs": [],
   "source": [
    "\n",
    "import altair as alt\n",
    "import pandas as pd\n"
   ]
  },
  {
   "cell_type": "markdown",
   "id": "e19ac92a",
   "metadata": {},
   "source": [
    "\n",
    "## Iris Dataset\n",
    "\n",
    "The Iris dataset is a classic dataset in the field of machine learning and statistics. It contains measurements for 150 iris flowers from three different species. We will use this dataset to demonstrate how to create scatter, bar, and line charts with Altair.\n"
   ]
  },
  {
   "cell_type": "code",
   "execution_count": null,
   "id": "c1349ca1",
   "metadata": {},
   "outputs": [],
   "source": [
    "\n",
    "# Load the Iris dataset\n",
    "iris = pd.read_csv('iris.csv')\n",
    "iris.head()\n"
   ]
  },
  {
   "cell_type": "markdown",
   "id": "e6e2c86f",
   "metadata": {},
   "source": [
    "\n",
    "### Scatter Plot\n",
    "\n",
    "A scatter plot is useful for visualizing the relationship between two numerical variables. Here, we'll create a scatter plot to examine the relationship between sepal length and sepal width for each species.\n"
   ]
  },
  {
   "cell_type": "code",
   "execution_count": null,
   "id": "bcfc6fbc",
   "metadata": {},
   "outputs": [],
   "source": [
    "\n",
    "# Create a scatter plot\n",
    "alt.Chart(iris).mark_point().encode(\n",
    "    x='sepalLength',\n",
    "    y='sepalWidth',\n",
    "    color='species'\n",
    ")\n"
   ]
  },
  {
   "cell_type": "markdown",
   "id": "49a67bb8",
   "metadata": {},
   "source": [
    "\n",
    "### Bar Chart\n",
    "\n",
    "A bar chart is useful for comparing quantities across different categories. Here, we'll create a bar chart to compare the average sepal length of each iris species.\n"
   ]
  },
  {
   "cell_type": "code",
   "execution_count": null,
   "id": "f88ea0ce",
   "metadata": {},
   "outputs": [],
   "source": [
    "\n",
    "# Create a bar chart\n",
    "alt.Chart(iris).mark_bar().encode(\n",
    "    x='species',\n",
    "    y='average(sepalLength)'\n",
    ")\n"
   ]
  },
  {
   "cell_type": "markdown",
   "id": "3e370cdc",
   "metadata": {},
   "source": [
    "\n",
    "### Line Chart\n",
    "\n",
    "A line chart is useful for visualizing data over a continuous interval or time span. In this case, we'll simulate time series data by creating a cumulative sum of sepal length and plot it as a line chart.\n"
   ]
  },
  {
   "cell_type": "code",
   "execution_count": null,
   "id": "0fab28a5",
   "metadata": {},
   "outputs": [],
   "source": [
    "\n",
    "# Create a line chart\n",
    "alt.Chart(iris['sepalLength'].cumsum().reset_index()).mark_line().encode(\n",
    "    x='index:O',\n",
    "    y='sepalLength:Q'\n",
    ")\n"
   ]
  }
 ],
 "metadata": {},
 "nbformat": 4,
 "nbformat_minor": 5
}
