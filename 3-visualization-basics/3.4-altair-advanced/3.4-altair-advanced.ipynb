{
 "cells": [
  {
   "cell_type": "markdown",
   "id": "3f78a7f5",
   "metadata": {
    "id": "intro-cell"
   },
   "source": [
    "# Advanced Data Visualization with Altair\n",
    "\n",
    "In this section, we will explore more advanced visualization techniques using Altair, focusing on multiple series, stacked, and grouped bar charts."
   ]
  },
  {
   "cell_type": "markdown",
   "id": "e2b6fe5d",
   "metadata": {
    "id": "dataset-cell"
   },
   "source": [
    "## The NFL `standings.csv` Dataset\n",
    "\n",
    "We will use the NFL `standings.csv` dataset to demonstrate these advanced visualization techniques. This dataset contains the standings of NFL teams over multiple seasons, which is perfect for our use case."
   ]
  },
  {
   "cell_type": "code",
   "execution_count": null,
   "id": "51179fbf",
   "metadata": {
    "id": "load-data-cell"
   },
   "outputs": [],
   "source": [
    "import altair as alt\n",
    "import pandas as pd\n",
    "\n",
    "# Load the NFL standings dataset\n",
    "standings = pd.read_csv(\"standings.csv\")\n",
    "standings.head()"
   ]
  },
  {
   "cell_type": "markdown",
   "id": "97ece272",
   "metadata": {
    "id": "multi-line-cell"
   },
   "source": [
    "### Multiple Series Line Charts\n",
    "\n",
    "Multiple series line charts are useful for comparing trends over time across different categories."
   ]
  },
  {
   "cell_type": "code",
   "execution_count": null,
   "id": "1681a643",
   "metadata": {
    "id": "multi-line-code-cell"
   },
   "outputs": [],
   "source": [
    "# Create a multiple series line chart\n",
    "alt.Chart(standings).mark_line().encode(\n",
    "    x=\"Year:O\",\n",
    "    y=\"Wins:Q\",\n",
    "    color=\"Team:N\"\n",
    ").interactive()"
   ]
  },
  {
   "cell_type": "markdown",
   "id": "6b654a3b",
   "metadata": {
    "id": "stacked-bar-cell"
   },
   "source": [
    "### Stacked Bar Charts\n",
    "\n",
    "Stacked bar charts allow us to compare parts of a whole across different categories."
   ]
  },
  {
   "cell_type": "code",
   "execution_count": null,
   "id": "f633887e",
   "metadata": {
    "id": "stacked-bar-code-cell"
   },
   "outputs": [],
   "source": [
    "# Create a stacked bar chart\n",
    "alt.Chart(standings).mark_bar().encode(\n",
    "    x=\"Year:O\",\n",
    "    y=\"Wins:Q\",\n",
    "    color=\"Division:N\",\n",
    "    order=\"Division:N\"\n",
    ").interactive()"
   ]
  },
  {
   "cell_type": "markdown",
   "id": "0ef369af",
   "metadata": {
    "id": "grouped-bar-cell"
   },
   "source": [
    "### Grouped Bar Charts\n",
    "\n",
    "Grouped bar charts are useful for comparing multiple categories side by side."
   ]
  },
  {
   "cell_type": "code",
   "execution_count": null,
   "id": "7e4f2ba8",
   "metadata": {
    "id": "grouped-bar-code-cell"
   },
   "outputs": [],
   "source": [
    "# Create a grouped bar chart\n",
    "alt.Chart(standings).mark_bar().encode(\n",
    "    column=\"Year:O\",\n",
    "    x=\"Team:N\",\n",
    "    y=\"Wins:Q\",\n",
    "    color=\"Division:N\"\n",
    ").interactive()"
   ]
  },
  {
   "cell_type": "markdown",
   "id": "af908ee4",
   "metadata": {
    "id": "advantages-cell"
   },
   "source": [
    "## Advantages of Using Altair\n",
    "\n",
    "Altair provides a powerful and concise way to create a wide variety of visualizations, and its integration with pandas makes it an excellent choice for data analysis in Python."
   ]
  },
  {
   "cell_type": "markdown",
   "id": "ad8f3056",
   "metadata": {
    "id": "exercises-cell"
   },
   "source": [
    "## Exercises\n",
    "\n",
    "Try to create the following visualizations on your own using the `standings.csv` dataset:\n",
    "\n",
    "1. A line chart showing the average number of wins per division over time.\n",
    "2. A stacked bar chart showing the total number of wins per conference over time.\n",
    "3. A grouped bar chart comparing the wins and losses of each team in a single year."
   ]
  },
  {
   "cell_type": "code",
   "execution_count": null,
   "id": "c6db8aac",
   "metadata": {
    "id": "exercise-1-cell"
   },
   "outputs": [],
   "source": []
  },
  {
   "cell_type": "code",
   "execution_count": null,
   "id": "fb0a7b75",
   "metadata": {
    "id": "exercise-2-cell"
   },
   "outputs": [],
   "source": []
  },
  {
   "cell_type": "code",
   "execution_count": null,
   "id": "e9754e23",
   "metadata": {
    "id": "exercise-3-cell"
   },
   "outputs": [],
   "source": []
  }
 ],
 "metadata": {},
 "nbformat": 4,
 "nbformat_minor": 5
}
