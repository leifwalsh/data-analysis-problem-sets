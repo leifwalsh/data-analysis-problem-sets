{
 "cells": [
  {
   "cell_type": "markdown",
   "id": "6c4360d4",
   "metadata": {},
   "source": [
    "\n",
    "# Problem Set 3.2: Multiple Series and Stacked Grouped Charts\n",
    "\n",
    "In this section, we will explore how to visualize NFL team performance data over time. We'll learn how to plot multiple series with line and scatter plots, and how to create stacked and grouped bar charts. Each concept will be explained step by step, followed by code examples that you can run and modify.\n"
   ]
  },
  {
   "cell_type": "code",
   "execution_count": null,
   "id": "87da26b5",
   "metadata": {},
   "outputs": [],
   "source": [
    "\n",
    "import pandas as pd\n",
    "\n",
    "# Load the NFL data\n",
    "standings = pd.read_csv('standings.csv')\n",
    "# Display the first few rows of the dataframe\n",
    "standings.head()\n"
   ]
  },
  {
   "cell_type": "markdown",
   "id": "78491266",
   "metadata": {},
   "source": [
    "\n",
    "## Plotting Multiple Series\n",
    "\n",
    "Plotting multiple series is useful when you want to compare different categories of data over the same interval. In our case, we'll compare the performance of different NFL teams over various seasons.\n"
   ]
  },
  {
   "cell_type": "code",
   "execution_count": null,
   "id": "1ddb3d59",
   "metadata": {},
   "outputs": [],
   "source": [
    "\n",
    "import matplotlib.pyplot as plt\n",
    "\n",
    "# Assuming standings DataFrame is already loaded\n",
    "# Filter data for a few teams to simplify the example\n",
    "teams_to_plot = ['NE', 'NYJ', 'MIA', 'BUF']\n",
    "filtered_standings = standings[standings.team.isin(teams_to_plot)]\n",
    "\n",
    "# Pivot the data to have teams as columns and seasons as rows\n",
    "pivoted_standings = filtered_standings.pivot(index='season', columns='team', values='pct')\n",
    "\n",
    "# Plot the data\n",
    "plt.figure(figsize=(10, 6))\n",
    "for team in teams_to_plot:\n",
    "    plt.plot(pivoted_standings.index, pivoted_standings[team], marker='o', label=team)\n",
    "\n",
    "plt.title('NFL Team Win Percentages Over Time')\n",
    "plt.xlabel('Season')\n",
    "plt.ylabel('Win Percentage')\n",
    "plt.legend(title='Team')\n",
    "plt.grid(True)\n",
    "plt.show()\n"
   ]
  },
  {
   "cell_type": "markdown",
   "id": "11e2453b",
   "metadata": {},
   "source": [
    "\n",
    "## Stacked Bar Charts\n",
    "\n",
    "Stacked bar charts allow us to see the distribution of categories within a whole over time or across different items. Below, we'll create a stacked bar chart to visualize how each team's win percentage contributes to the total for each season.\n"
   ]
  },
  {
   "cell_type": "code",
   "execution_count": null,
   "id": "4790b210",
   "metadata": {},
   "outputs": [],
   "source": [
    "\n",
    "# Assuming standings DataFrame is already loaded\n",
    "# Pivot data to have teams as columns and seasons as rows for win percentages\n",
    "pivoted_standings = filtered_standings.pivot(index='season', columns='team', values='pct')\n",
    "\n",
    "# Plot stacked bar chart\n",
    "pivoted_standings.plot(kind='bar', stacked=True, figsize=(10, 6))\n",
    "plt.title('NFL Team Win Percentages by Season')\n",
    "plt.xlabel('Season')\n",
    "plt.ylabel('Win Percentage')\n",
    "plt.legend(title='Team')\n",
    "plt.show()\n"
   ]
  },
  {
   "cell_type": "markdown",
   "id": "58c3f89a",
   "metadata": {},
   "source": [
    "\n",
    "## Grouped Bar Charts\n",
    "\n",
    "Grouped bar charts are similar to stacked bar charts but instead of stacking, each category is represented by a separate bar, making it easier to compare individual values. We'll use this type of chart to compare the win percentages of teams side by side for each season.\n"
   ]
  },
  {
   "cell_type": "code",
   "execution_count": null,
   "id": "fbe015b1",
   "metadata": {},
   "outputs": [],
   "source": [
    "\n",
    "# Assuming standings DataFrame is already loaded\n",
    "# Pivot data to have teams as columns and seasons as rows for win percentages\n",
    "pivoted_standings = filtered_standings.pivot(index='season', columns='team', values='pct')\n",
    "\n",
    "# Plot grouped bar chart\n",
    "pivoted_standings.plot(kind='bar', figsize=(10, 6))\n",
    "plt.title('NFL Team Win Percentages by Season')\n",
    "plt.xlabel('Season')\n",
    "plt.ylabel('Win Percentage')\n",
    "plt.legend(title='Team')\n",
    "plt.show()\n"
   ]
  }
 ],
 "metadata": {},
 "nbformat": 4,
 "nbformat_minor": 5
}
