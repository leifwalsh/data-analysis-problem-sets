{
 "cells": [
  {
   "cell_type": "markdown",
   "id": "8b67b126",
   "metadata": {},
   "source": [
    "# NFL Data Visualization with Pandas\n",
    "\n",
    "In this tutorial, we will explore how to create various types of charts using the pandas plotting API. We will use NFL data to visualize team performance statistics over time. We'll start with scatter plots, which are a great way to visualize two variables and their relationship to one another. Then, we'll move on to bar charts and line charts, which help us compare different groups and show trends over time, respectively.\n",
    "\n",
    "## Scatter Plots\n",
    "Before we dive into the code, let's understand what scatter plots are and why they are useful. Scatter plots allow us to observe the relationship between two continuous variables; for example, we might want to see if there's a correlation between the number of touchdowns and the number of wins for a team.\n",
    "\n",
    "Here's how you can create a scatter plot using pandas:\n"
   ]
  },
  {
   "cell_type": "code",
   "execution_count": null,
   "id": "258944c4",
   "metadata": {},
   "outputs": [],
   "source": [
    "import pandas as pd\n",
    "\n",
    "# Load your data here\n",
    "data = pd.read_csv('standings.csv')\n",
    "\n",
    "# Example scatter plot\n",
    "# Let's plot touchdowns vs. wins\n",
    "data.plot.scatter(x='touchdowns', y='wins')\n",
    "\n",
    "# The plot function is very flexible. For instance, you could add a 'hue' parameter to color the points by another category.\n"
   ]
  },
  {
   "cell_type": "markdown",
   "id": "44a76ccd",
   "metadata": {},
   "source": [
    "## Bar Charts\n",
    "Bar charts are useful for comparing quantities corresponding to different groups. For example, we might want to compare the average number of wins across different divisions.\n",
    "\n",
    "Here's a simple bar chart using pandas:\n"
   ]
  },
  {
   "cell_type": "code",
   "execution_count": null,
   "id": "0d9c341a",
   "metadata": {},
   "outputs": [],
   "source": [
    "# Example bar chart\n",
    "# Let's compare the average number of wins by division\n",
    "data.groupby('division')['wins'].mean().plot.bar()\n",
    "\n",
    "# With pandas, you can easily create stacked bar charts by passing stacked=True, or create horizontal bar charts with kind='barh'.\n"
   ]
  },
  {
   "cell_type": "markdown",
   "id": "a7de6e96",
   "metadata": {},
   "source": [
    "## Line Charts\n",
    "Line charts are perfect for showing trends over time. For instance, we might be interested in a team's performance over the course of a season.\n",
    "\n",
    "Below is how you can create a line chart:\n"
   ]
  },
  {
   "cell_type": "code",
   "execution_count": null,
   "id": "ba4f3d9e",
   "metadata": {},
   "outputs": [],
   "source": [
    "# Example line chart\n",
    "# Plotting the trend of wins over time for a team\n",
    "data[data['team'] == 'Patriots'].plot.line(x='date', y='wins')\n",
    "\n",
    "# The plot function also allows for multiple lines in the same chart, which is useful for comparing trends between groups.\n"
   ]
  },
  {
   "cell_type": "markdown",
   "id": "9172acd4",
   "metadata": {},
   "source": [
    "## Exercises\n",
    "Now it's your turn to try creating some plots. Below are some exercises to practice what you've learned. Try to use different options and parameters to customize your plots.\n"
   ]
  },
  {
   "cell_type": "code",
   "execution_count": null,
   "id": "999d5d4d",
   "metadata": {},
   "outputs": [],
   "source": [
    "# Exercise 1: Create a scatter plot of two variables of your choice"
   ]
  },
  {
   "cell_type": "code",
   "execution_count": null,
   "id": "6d3eaa39",
   "metadata": {},
   "outputs": [],
   "source": [
    "# Exercise 2: Create a bar chart showing the distribution of a categorical variable"
   ]
  },
  {
   "cell_type": "code",
   "execution_count": null,
   "id": "7a381a38",
   "metadata": {},
   "outputs": [],
   "source": [
    "# Exercise 3: Create a line chart showing the trend of a variable over time"
   ]
  }
 ],
 "metadata": {},
 "nbformat": 4,
 "nbformat_minor": 5
}
