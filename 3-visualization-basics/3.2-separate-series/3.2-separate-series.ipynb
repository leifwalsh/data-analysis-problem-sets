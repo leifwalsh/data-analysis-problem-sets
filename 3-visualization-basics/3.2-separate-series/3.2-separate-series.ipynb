{
 "cells": [
  {
   "cell_type": "markdown",
   "id": "384b825e",
   "metadata": {},
   "source": [
    "\n",
    "# Problem Set 3.2: Multiple Series and Stacked Grouped Charts\n",
    "\n",
    "Welcome to the tutorial on advanced data visualization techniques using the NFL team performance data. In this section, we will cover how to effectively compare and analyze data across different categories or groups over time using multiple series plots. This is a key skill in data analysis that can help uncover trends and patterns that are not immediately obvious.\n",
    "\n",
    "We will also dive into the intricacies of stacked and grouped bar charts. These types of charts are powerful tools for breaking down and understanding complex datasets. Stacked bar charts allow us to examine part-to-whole relationships within categories, while grouped bar charts enable us to compare these categories side by side.\n",
    "\n",
    "Throughout this tutorial, we will use pandas for data manipulation and matplotlib for creating our visualizations. By the end of this section, you will be equipped with the knowledge to implement these visualization techniques and apply them to your own data analysis projects. Let's begin by setting up our environment and loading the data we will be working with.\n"
   ]
  },
  {
   "cell_type": "code",
   "execution_count": null,
   "id": "1cf0026d",
   "metadata": {},
   "outputs": [],
   "source": [
    "\n",
    "import pandas as pd\n",
    "\n",
    "# Load the NFL data from the CSV file\n",
    "standings = pd.read_csv('standings.csv')\n",
    "# Display the first few rows to understand the structure of the data\n",
    "standings.head()\n"
   ]
  },
  {
   "cell_type": "markdown",
   "id": "f1cb2ca0",
   "metadata": {},
   "source": [
    "\n",
    "## Plotting Multiple Series\n",
    "\n",
    "When dealing with time series data or any data that spans across different categories, plotting multiple series on the same chart is invaluable. It allows for direct comparison between categories, making it easier to spot differences and trends. In the context of NFL data, we can compare the performance of various teams across multiple seasons.\n",
    "\n",
    "Plotting multiple series is a powerful way to visualize complex data. It enables us to see how different groups or categories change over time relative to each other. This can reveal patterns or anomalies that might not be apparent when looking at single series in isolation. For example, we might discover that certain teams consistently perform better or worse than others, or that there are significant shifts in performance from one season to the next.\n",
    "\n",
    "Pandas and matplotlib provide a seamless experience for creating multi-series plots. Pandas' data manipulation capabilities allow us to easily structure our data for visualization, while matplotlib gives us the tools to create clear and informative plots. We'll see how to use these libraries to filter our dataset, pivot the data for plotting, and then create a line chart that compares the win percentages of selected NFL teams over time.\n"
   ]
  },
  {
   "cell_type": "code",
   "execution_count": null,
   "id": "c66f51c3",
   "metadata": {},
   "outputs": [],
   "source": [
    "\n",
    "\n",
    "\n",
    "# Filter the data to include only the divisions we're interested in\n",
    "divisions_to_plot = standings['division'].unique()\n",
    "\n",
    "# Pivot the data to have divisions as columns and seasons as rows\n",
    "# This restructures the DataFrame for easier plotting\n",
    "pivoted_standings = standings.pivot_table(index='season', columns='division', values='win_pct', aggfunc='mean')\n",
    "\n",
    "# Create a line chart to visualize the data\n",
    "# We loop through each division to plot their performance over time\n",
    "ax = figure(figsize=(10, 6))\n",
    "for division in divisions_to_plot:\n",
    "    ax = plot(pivoted_standings.index, pivoted_standings[division], marker='o', label=division)\n",
    "\n",
    "# Differentiate conferences by color\n",
    "conference_colors = {'AFC': 'blue', 'NFC': 'green'}\n",
    "for conference in standings['conference'].unique():\n",
    "    conference_divisions = standings[standings['conference'] == conference]['division'].unique()\n",
    "    for division in conference_divisions:\n",
    "        ax = plot(pivoted_standings.index, pivoted_standings[division], marker='o', label=f\"{conference} - {division}\", color=conference_colors[conference])\n",
    "\n",
    "# Add title, labels, and legend to make the chart informative\n",
    "ax = title('NFL Division Win Percentages Over Time')\n",
    "ax = xlabel('Season')\n",
    "ax = ylabel('Win Percentage')\n",
    "ax = legend(title='Division')\n",
    "ax = grid(True)\n",
    "# Display the plot\n",
    "ax = show()\n",
    "\n",
    "ax.figure.set_size_inches(10, 6)"
   ]
  },
  {
   "cell_type": "markdown",
   "id": "70a6607e",
   "metadata": {},
   "source": [
    "\n",
    "## Stacked Bar Charts\n",
    "\n",
    "Stacked bar charts are a type of data visualization that allows us to see how different categories contribute to the total in a single bar for each group. This is particularly useful when we want to understand the part-to-whole relationship within each group. For example, in our NFL data, we might be interested in seeing how each team's win percentage contributes to the total for each season.\n",
    "\n",
    "These charts can help us identify not only the overall trends but also how the composition of the whole changes over time. They can show us if one category is growing at the expense of another, or if all categories are growing in tandem.\n",
    "\n",
    "Creating stacked bar charts is straightforward with pandas and matplotlib. Pandas helps us to organize our data into a format that can be easily plotted, and matplotlib provides the functionality to stack the data within the bars. We'll demonstrate how to pivot our data and then plot a stacked bar chart to visualize the win percentages of NFL teams by season.\n"
   ]
  },
  {
   "cell_type": "code",
   "execution_count": null,
   "id": "6e37f1b2",
   "metadata": {},
   "outputs": [],
   "source": [
    "\n",
    "# Assuming standings DataFrame is already loaded\n",
    "# Pivot data to have teams as columns and seasons as rows for win percentages\n",
    "pivoted_standings = filtered_standings.pivot(index='season', columns='team', values='pct')\n",
    "\n",
    "# Plot stacked bar chart\n",
    "pivoted_standings.plot(kind='bar', stacked=True, figsize=(10, 6))\n",
    "ax = title('NFL Team Win Percentages by Season')\n",
    "ax = xlabel('Season')\n",
    "ax = ylabel('Win Percentage')\n",
    "ax = legend(title='Team')\n",
    "ax = show()\n",
    "\n",
    "ax.figure.set_size_inches(10, 6)"
   ]
  },
  {
   "cell_type": "markdown",
   "id": "9a49980f",
   "metadata": {},
   "source": [
    "\n",
    "## Grouped Bar Charts\n",
    "\n",
    "Grouped bar charts are an effective way to compare multiple categories side by side. Unlike stacked bar charts, which show the cumulative effect of multiple categories, grouped bar charts allow us to see each category individually, making direct comparisons easier. This can be particularly insightful when we want to compare the performance of different teams across the same seasons.\n",
    "\n",
    "These charts are useful for highlighting differences between categories and can help us to quickly identify which categories are performing better or worse than others. They are also helpful for spotting trends within individual categories across different groups or time periods.\n",
    "\n",
    "With pandas and matplotlib, creating grouped bar charts is a simple process. We can use pandas to structure our data appropriately and then leverage matplotlib's plotting capabilities to create a bar chart with groups of bars representing our categories. We'll use this approach to compare the win percentages of NFL teams side by side for each season.\n"
   ]
  },
  {
   "cell_type": "code",
   "execution_count": null,
   "id": "edf88e6f",
   "metadata": {},
   "outputs": [],
   "source": [
    "\n",
    "# Assuming standings DataFrame is already loaded\n",
    "# Pivot data to have teams as columns and seasons as rows for win percentages\n",
    "pivoted_standings = filtered_standings.pivot(index='season', columns='team', values='pct')\n",
    "\n",
    "# Plot grouped bar chart\n",
    "pivoted_standings.plot(kind='bar', figsize=(10, 6))\n",
    "ax = title('NFL Team Win Percentages by Season')\n",
    "ax = xlabel('Season')\n",
    "ax = ylabel('Win Percentage')\n",
    "ax = legend(title='Team')\n",
    "ax = show()\n",
    "\n",
    "ax.figure.set_size_inches(10, 6)"
   ]
  },
  {
   "cell_type": "markdown",
   "id": "6f7fd2e2",
   "metadata": {},
   "source": [
    "\n",
    "## Grouping by Division and Conference\n",
    "\n",
    "In addition to comparing team performance, we can analyze how teams perform on a larger scale by grouping them into divisions and conferences. This allows us to see broader trends and make comparisons on a higher level of aggregation.\n",
    "\n",
    "Let's calculate and plot the mean and quantiles of win percentages grouped by division and conference. This will give us insights into the overall performance characteristics of these groups.\n",
    "\n",
    "### Mean Win Percentage by Division\n",
    "\n",
    "First, we'll calculate the mean win percentage for each division and plot a bar chart to visualize it.\n"
   ]
  },
  {
   "cell_type": "code",
   "execution_count": null,
   "id": "5c56c48d",
   "metadata": {},
   "outputs": [],
   "source": [
    "\n",
    "# Calculate the mean win percentage by division\n",
    "mean_win_pct_by_division = standings.groupby('division')['win_pct'].mean()\n",
    "\n",
    "# Plot the mean win percentage by division\n",
    "mean_win_pct_by_division.plot(kind='bar', figsize=(10, 6))\n",
    "ax = title('Mean Win Percentage by Division')\n",
    "ax = xlabel('Division')\n",
    "ax = ylabel('Mean Win Percentage')\n",
    "ax = show()\n",
    "\n",
    "ax.figure.set_size_inches(10, 6)"
   ]
  },
  {
   "cell_type": "markdown",
   "id": "052b7fcf",
   "metadata": {},
   "source": [
    "\n",
    "### Win Percentage Quantiles by Conference\n",
    "\n",
    "Next, we'll calculate the quantiles of win percentages for each conference. This will show us the distribution of team performance within each conference.\n",
    "\n",
    "We'll plot the 25th, 50th (median), and 75th percentiles for each conference.\n"
   ]
  },
  {
   "cell_type": "code",
   "execution_count": null,
   "id": "9f195c2a",
   "metadata": {},
   "outputs": [],
   "source": [
    "\n",
    "# Calculate the quantiles of win percentage by conference\n",
    "quantiles_by_conference = standings.groupby('conference')['win_pct'].quantile([0.25, 0.5, 0.75]).unstack()\n",
    "\n",
    "# Plot the quantiles of win percentage by conference\n",
    "quantiles_by_conference.plot(kind='bar', figsize=(10, 6))\n",
    "ax = title('Win Percentage Quantiles by Conference')\n",
    "ax = xlabel('Conference')\n",
    "ax = ylabel('Win Percentage')\n",
    "ax = legend(title='Quantile')\n",
    "ax = show()\n",
    "\n",
    "ax.figure.set_size_inches(10, 6)"
   ]
  },
  {
   "cell_type": "markdown",
   "id": "706a92d8",
   "metadata": {},
   "source": [
    "\n",
    "## Example Problems\n",
    "\n",
    "Now that you've learned about plotting multiple series, stacked and grouped bar charts, and grouping statistics, it's time to put your knowledge to the test. Below are a few problems for you to solve using the NFL data. Try to work through these on your own before looking at the solutions.\n",
    "\n",
    "1. **Divisional Dominance**: Using a line chart, plot the mean win percentage for each division over the last five seasons. Which division appears to be the strongest?\n",
    "\n",
    "2. **Conference Comparison**: Create a stacked bar chart showing the win percentage for each conference, with the bars divided by division. What trends do you notice about the divisions within each conference?\n",
    "\n",
    "3. **Performance Peaks**: Using a scatter plot, visualize the 75th percentile of win percentages for teams in the 'NFC East' division over time. What does this tell you about the top-performing teams in this division?\n",
    "\n",
    "Remember to label your axes and provide a legend where necessary to make your charts informative.\n"
   ]
  },
  {
   "cell_type": "markdown",
   "id": "8cf1d6fb",
   "metadata": {},
   "source": [
    "### Exercise"
   ]
  },
  {
   "cell_type": "code",
   "execution_count": null,
   "id": "db21c40d",
   "metadata": {},
   "outputs": [],
   "source": [
    "# Your code here\n",
    "\n"
   ]
  }
 ],
 "metadata": {},
 "nbformat": 4,
 "nbformat_minor": 5
}
