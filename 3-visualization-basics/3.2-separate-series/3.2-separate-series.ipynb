{
 "cells": [
  {
   "cell_type": "markdown",
   "id": "a9c0c86f",
   "metadata": {},
   "source": [
    "\n",
    "# Problem Set 3.2: Multiple Series and Stacked Grouped Charts\n",
    "\n",
    "In this section, we will delve into advanced visualization techniques using NFL team performance data. We'll start by understanding how to plot multiple series, which is crucial when comparing different categories or groups over a period. This technique helps in identifying trends and patterns across groups.\n",
    "\n",
    "Next, we'll explore stacked and grouped bar charts. Stacked bar charts are excellent for comparing the part-to-whole relationships within categories over time, while grouped bar charts allow us to compare individual categories side by side. These charts are particularly useful in breaking down complex data into more digestible insights.\n",
    "\n",
    "By the end of this tutorial, you'll have a solid understanding of these visualization techniques and how to implement them using pandas and matplotlib. Let's get started by loading our data and setting up our environment.\n"
   ]
  },
  {
   "cell_type": "code",
   "execution_count": null,
   "id": "fdc65ca5",
   "metadata": {},
   "outputs": [],
   "source": [
    "\n",
    "import pandas as pd\n",
    "\n",
    "# Load the NFL data from the CSV file\n",
    "standings = pd.read_csv('standings.csv')\n",
    "# Display the first few rows to understand the structure of the data\n",
    "standings.head()\n"
   ]
  },
  {
   "cell_type": "markdown",
   "id": "d79f85b6",
   "metadata": {},
   "source": [
    "\n",
    "## Plotting Multiple Series\n",
    "\n",
    "When dealing with time series data or any data that spans across different categories, plotting multiple series on the same chart is invaluable. It allows for direct comparison between categories, making it easier to spot differences and trends. In the context of NFL data, we can compare the performance of various teams across multiple seasons.\n",
    "\n",
    "Plotting multiple series is a powerful way to visualize complex data. It enables us to see how different groups or categories change over time relative to each other. This can reveal patterns or anomalies that might not be apparent when looking at single series in isolation. For example, we might discover that certain teams consistently perform better or worse than others, or that there are significant shifts in performance from one season to the next.\n",
    "\n",
    "Pandas and matplotlib provide a seamless experience for creating multi-series plots. Pandas' data manipulation capabilities allow us to easily structure our data for visualization, while matplotlib gives us the tools to create clear and informative plots. We'll see how to use these libraries to filter our dataset, pivot the data for plotting, and then create a line chart that compares the win percentages of selected NFL teams over time.\n"
   ]
  },
  {
   "cell_type": "code",
   "execution_count": null,
   "id": "f068bf47",
   "metadata": {},
   "outputs": [],
   "source": [
    "\n",
    "import matplotlib.pyplot as plt\n",
    "\n",
    "# Filter the data to include only the teams we're interested in\n",
    "teams_to_plot = ['NE', 'NYJ', 'MIA', 'BUF']\n",
    "filtered_standings = standings[standings.team.isin(teams_to_plot)]\n",
    "\n",
    "# Pivot the data to have teams as columns and seasons as rows\n",
    "# This restructures the DataFrame for easier plotting\n",
    "pivoted_standings = filtered_standings.pivot(index='season', columns='team', values='pct')\n",
    "\n",
    "# Create a line chart to visualize the data\n",
    "# We loop through each team to plot their performance over time\n",
    "plt.figure(figsize=(10, 6))\n",
    "for team in teams_to_plot:\n",
    "    plt.plot(pivoted_standings.index, pivoted_standings[team], marker='o', label=team)\n",
    "\n",
    "# Add title, labels, and legend to make the chart informative\n",
    "plt.title('NFL Team Win Percentages Over Time')\n",
    "plt.xlabel('Season')\n",
    "plt.ylabel('Win Percentage')\n",
    "plt.legend(title='Team')\n",
    "plt.grid(True)\n",
    "# Display the plot\n",
    "plt.show()\n"
   ]
  },
  {
   "cell_type": "markdown",
   "id": "0aaf579d",
   "metadata": {},
   "source": [
    "\n",
    "## Stacked Bar Charts\n",
    "\n",
    "Stacked bar charts are a type of data visualization that allows us to see how different categories contribute to the total in a single bar for each group. This is particularly useful when we want to understand the part-to-whole relationship within each group. For example, in our NFL data, we might be interested in seeing how each team's win percentage contributes to the total for each season.\n",
    "\n",
    "These charts can help us identify not only the overall trends but also how the composition of the whole changes over time. They can show us if one category is growing at the expense of another, or if all categories are growing in tandem.\n",
    "\n",
    "Creating stacked bar charts is straightforward with pandas and matplotlib. Pandas helps us to organize our data into a format that can be easily plotted, and matplotlib provides the functionality to stack the data within the bars. We'll demonstrate how to pivot our data and then plot a stacked bar chart to visualize the win percentages of NFL teams by season.\n"
   ]
  },
  {
   "cell_type": "code",
   "execution_count": null,
   "id": "e776603f",
   "metadata": {},
   "outputs": [],
   "source": [
    "\n",
    "# Assuming standings DataFrame is already loaded\n",
    "# Pivot data to have teams as columns and seasons as rows for win percentages\n",
    "pivoted_standings = filtered_standings.pivot(index='season', columns='team', values='pct')\n",
    "\n",
    "# Plot stacked bar chart\n",
    "pivoted_standings.plot(kind='bar', stacked=True, figsize=(10, 6))\n",
    "plt.title('NFL Team Win Percentages by Season')\n",
    "plt.xlabel('Season')\n",
    "plt.ylabel('Win Percentage')\n",
    "plt.legend(title='Team')\n",
    "plt.show()\n"
   ]
  },
  {
   "cell_type": "markdown",
   "id": "494d4b98",
   "metadata": {},
   "source": [
    "\n",
    "## Grouped Bar Charts\n",
    "\n",
    "Grouped bar charts are an effective way to compare multiple categories side by side. Unlike stacked bar charts, which show the cumulative effect of multiple categories, grouped bar charts allow us to see each category individually, making direct comparisons easier. This can be particularly insightful when we want to compare the performance of different teams across the same seasons.\n",
    "\n",
    "These charts are useful for highlighting differences between categories and can help us to quickly identify which categories are performing better or worse than others. They are also helpful for spotting trends within individual categories across different groups or time periods.\n",
    "\n",
    "With pandas and matplotlib, creating grouped bar charts is a simple process. We can use pandas to structure our data appropriately and then leverage matplotlib's plotting capabilities to create a bar chart with groups of bars representing our categories. We'll use this approach to compare the win percentages of NFL teams side by side for each season.\n"
   ]
  },
  {
   "cell_type": "code",
   "execution_count": null,
   "id": "0bf572a4",
   "metadata": {},
   "outputs": [],
   "source": [
    "\n",
    "# Assuming standings DataFrame is already loaded\n",
    "# Pivot data to have teams as columns and seasons as rows for win percentages\n",
    "pivoted_standings = filtered_standings.pivot(index='season', columns='team', values='pct')\n",
    "\n",
    "# Plot grouped bar chart\n",
    "pivoted_standings.plot(kind='bar', figsize=(10, 6))\n",
    "plt.title('NFL Team Win Percentages by Season')\n",
    "plt.xlabel('Season')\n",
    "plt.ylabel('Win Percentage')\n",
    "plt.legend(title='Team')\n",
    "plt.show()\n"
   ]
  }
 ],
 "metadata": {},
 "nbformat": 4,
 "nbformat_minor": 5
}
